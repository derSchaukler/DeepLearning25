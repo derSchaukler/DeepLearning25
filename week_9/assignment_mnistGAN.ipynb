{
  "cells": [
    {
      "cell_type": "markdown",
      "metadata": {
        "id": "9JCiZj8OVZOA",
        "papermill": {
          "duration": 0.010897,
          "end_time": "2020-08-17T09:55:39.401285",
          "exception": false,
          "start_time": "2020-08-17T09:55:39.390388",
          "status": "completed"
        },
        "tags": []
      },
      "source": [
        "# Asignemnt: MNIST GAN\n",
        "## Load the Data\n",
        "\n",
        "We begin by downloading and importing the data as a PyTorch dataset using the `MNIST` helper class from `torchvision.datasets`."
      ]
    },
    {
      "cell_type": "code",
      "execution_count": 1,
      "metadata": {
        "execution": {
          "iopub.execute_input": "2020-08-17T09:55:39.430976Z",
          "iopub.status.busy": "2020-08-17T09:55:39.430373Z",
          "iopub.status.idle": "2020-08-17T09:55:42.664332Z",
          "shell.execute_reply": "2020-08-17T09:55:42.665107Z"
        },
        "id": "UyBhQNYFVZOB",
        "papermill": {
          "duration": 3.252756,
          "end_time": "2020-08-17T09:55:42.665363",
          "exception": false,
          "start_time": "2020-08-17T09:55:39.412607",
          "status": "completed"
        },
        "tags": []
      },
      "outputs": [],
      "source": [
        "import torch\n",
        "import torchvision\n",
        "from torchvision.transforms import ToTensor, Normalize, Compose\n",
        "from torchvision.datasets import MNIST\n",
        "\n",
        "mnist = MNIST(root='data',\n",
        "              train=True,\n",
        "              download=True,\n",
        "              transform=Compose([ToTensor(), Normalize(mean=(0.5,), std=(0.5,))]))"
      ]
    },
    {
      "cell_type": "markdown",
      "metadata": {
        "id": "8KZFYl-KVZOD",
        "papermill": {
          "duration": 0.012072,
          "end_time": "2020-08-17T09:55:42.690789",
          "exception": false,
          "start_time": "2020-08-17T09:55:42.678717",
          "status": "completed"
        },
        "tags": []
      },
      "source": [
        "Note that we are are transforming the pixel values from the range `[0, 1]` to the range `[-1, 1]`. Makes generation easier..."
      ]
    },
    {
      "cell_type": "code",
      "execution_count": 2,
      "metadata": {
        "colab": {
          "base_uri": "https://localhost:8080/"
        },
        "execution": {
          "iopub.execute_input": "2020-08-17T09:55:42.725122Z",
          "iopub.status.busy": "2020-08-17T09:55:42.724389Z",
          "iopub.status.idle": "2020-08-17T09:55:42.788396Z",
          "shell.execute_reply": "2020-08-17T09:55:42.782500Z"
        },
        "id": "ZFBOkKZkVZOD",
        "outputId": "d67d495f-5537-4dc2-8dbe-1fe5493157f1",
        "papermill": {
          "duration": 0.085619,
          "end_time": "2020-08-17T09:55:42.788514",
          "exception": false,
          "start_time": "2020-08-17T09:55:42.702895",
          "status": "completed"
        },
        "tags": []
      },
      "outputs": [
        {
          "output_type": "stream",
          "name": "stdout",
          "text": [
            "Label:  5\n",
            "tensor([[[-0.9922,  0.2078,  0.9843, -0.2941, -1.0000],\n",
            "         [-1.0000,  0.0902,  0.9843,  0.4902, -0.9843],\n",
            "         [-1.0000, -0.9137,  0.4902,  0.9843, -0.4510],\n",
            "         [-1.0000, -1.0000, -0.7255,  0.8902,  0.7647],\n",
            "         [-1.0000, -1.0000, -1.0000, -0.3647,  0.8824]]])\n"
          ]
        },
        {
          "output_type": "execute_result",
          "data": {
            "text/plain": [
              "(tensor(-1.), tensor(1.))"
            ]
          },
          "metadata": {},
          "execution_count": 2
        }
      ],
      "source": [
        "img, label = mnist[0]\n",
        "print('Label: ', label)\n",
        "print(img[:,10:15,10:15])\n",
        "torch.min(img), torch.max(img)"
      ]
    },
    {
      "cell_type": "markdown",
      "metadata": {
        "id": "3xOZQHezVZOE",
        "papermill": {
          "duration": 0.013308,
          "end_time": "2020-08-17T09:55:42.814142",
          "exception": false,
          "start_time": "2020-08-17T09:55:42.800834",
          "status": "completed"
        },
        "tags": []
      },
      "source": [
        "As expected, the pixel values range from -1 to 1. Let's define a helper to denormalize and view the images. This function will also be useful for viewing the generated images."
      ]
    },
    {
      "cell_type": "code",
      "execution_count": 3,
      "metadata": {
        "execution": {
          "iopub.execute_input": "2020-08-17T09:55:42.849271Z",
          "iopub.status.busy": "2020-08-17T09:55:42.848521Z",
          "iopub.status.idle": "2020-08-17T09:55:42.851013Z",
          "shell.execute_reply": "2020-08-17T09:55:42.851527Z"
        },
        "id": "GiM08EQuVZOE",
        "papermill": {
          "duration": 0.019789,
          "end_time": "2020-08-17T09:55:42.851649",
          "exception": false,
          "start_time": "2020-08-17T09:55:42.831860",
          "status": "completed"
        },
        "tags": []
      },
      "outputs": [],
      "source": [
        "def denorm(x):\n",
        "    out = (x + 1) / 2\n",
        "    return out.clamp(0, 1)"
      ]
    },
    {
      "cell_type": "code",
      "execution_count": 4,
      "metadata": {
        "colab": {
          "base_uri": "https://localhost:8080/",
          "height": 447
        },
        "execution": {
          "iopub.execute_input": "2020-08-17T09:55:42.883860Z",
          "iopub.status.busy": "2020-08-17T09:55:42.882727Z",
          "iopub.status.idle": "2020-08-17T09:55:43.083285Z",
          "shell.execute_reply": "2020-08-17T09:55:43.083826Z"
        },
        "id": "q8z7O5ZLVZOF",
        "outputId": "236520fb-5aad-4e1b-a8fd-f9fd2671e238",
        "papermill": {
          "duration": 0.220307,
          "end_time": "2020-08-17T09:55:43.083967",
          "exception": false,
          "start_time": "2020-08-17T09:55:42.863660",
          "status": "completed"
        },
        "tags": []
      },
      "outputs": [
        {
          "output_type": "stream",
          "name": "stdout",
          "text": [
            "Label: 5\n"
          ]
        },
        {
          "output_type": "display_data",
          "data": {
            "text/plain": [
              "<Figure size 640x480 with 1 Axes>"
            ],
            "image/png": "[encoded data removed]"
          },
          "metadata": {}
        }
      ],
      "source": [
        "import matplotlib.pyplot as plt\n",
        "%matplotlib inline\n",
        "\n",
        "img_norm = denorm(img)\n",
        "plt.imshow(img_norm[0], cmap='gray')\n",
        "print('Label:', label)"
      ]
    },
    {
      "cell_type": "markdown",
      "metadata": {
        "id": "YpT-vul1VZOF",
        "papermill": {
          "duration": 0.013492,
          "end_time": "2020-08-17T09:55:43.111291",
          "exception": false,
          "start_time": "2020-08-17T09:55:43.097799",
          "status": "completed"
        },
        "tags": []
      },
      "source": [
        "Finally, let's create a dataloader to load the images in batches."
      ]
    },
    {
      "cell_type": "code",
      "execution_count": 5,
      "metadata": {
        "execution": {
          "iopub.execute_input": "2020-08-17T09:55:43.143065Z",
          "iopub.status.busy": "2020-08-17T09:55:43.142277Z",
          "iopub.status.idle": "2020-08-17T09:55:43.145197Z",
          "shell.execute_reply": "2020-08-17T09:55:43.145792Z"
        },
        "id": "LCe0U6iaVZOG",
        "papermill": {
          "duration": 0.021138,
          "end_time": "2020-08-17T09:55:43.145917",
          "exception": false,
          "start_time": "2020-08-17T09:55:43.124779",
          "status": "completed"
        },
        "tags": []
      },
      "outputs": [],
      "source": [
        "from torch.utils.data import DataLoader\n",
        "\n",
        "batch_size = 100\n",
        "data_loader = DataLoader(mnist, batch_size, shuffle=True)"
      ]
    },
    {
      "cell_type": "code",
      "execution_count": 6,
      "metadata": {
        "colab": {
          "base_uri": "https://localhost:8080/",
          "height": 551
        },
        "execution": {
          "iopub.execute_input": "2020-08-17T09:55:43.178132Z",
          "iopub.status.busy": "2020-08-17T09:55:43.177398Z",
          "iopub.status.idle": "2020-08-17T09:55:43.350810Z",
          "shell.execute_reply": "2020-08-17T09:55:43.350272Z"
        },
        "id": "hpsIHp7ZVZOG",
        "outputId": "667e560a-51e5-470b-d110-596668098f0c",
        "papermill": {
          "duration": 0.192473,
          "end_time": "2020-08-17T09:55:43.350929",
          "exception": false,
          "start_time": "2020-08-17T09:55:43.158456",
          "status": "completed"
        },
        "tags": []
      },
      "outputs": [
        {
          "output_type": "stream",
          "name": "stdout",
          "text": [
            "first batch\n",
            "torch.Size([100, 1, 28, 28])\n",
            "tensor([5, 1, 7, 7, 6, 7, 8, 1, 8, 4, 6, 9, 2, 2, 7, 6, 6, 5, 6, 2, 8, 2, 8, 8,\n",
            "        2, 0, 6, 0, 1, 5, 3, 6, 4, 0, 9, 7, 7, 8, 2, 8, 8, 2, 3, 4, 2, 1, 8, 3,\n",
            "        5, 7, 1, 7, 7, 4, 6, 9, 9, 4, 9, 2, 8, 7, 8, 1, 2, 4, 5, 4, 4, 6, 2, 4,\n",
            "        7, 9, 3, 9, 1, 2, 0, 6, 6, 3, 6, 5, 2, 2, 3, 0, 5, 6, 0, 3, 6, 9, 4, 1,\n",
            "        8, 5, 9, 5])\n"
          ]
        },
        {
          "output_type": "display_data",
          "data": {
            "text/plain": [
              "<Figure size 640x480 with 1 Axes>"
            ],
            "image/png": "[encoded data removed]"
          },
          "metadata": {}
        }
      ],
      "source": [
        "for img_batch, label_batch in data_loader:\n",
        "    print('first batch')\n",
        "    print(img_batch.shape)\n",
        "    plt.imshow(img_batch[0][0], cmap='gray')\n",
        "    print(label_batch)\n",
        "    break"
      ]
    },
    {
      "cell_type": "code",
      "execution_count": 7,
      "metadata": {
        "execution": {
          "iopub.execute_input": "2020-08-17T09:55:43.740949Z",
          "iopub.status.busy": "2020-08-17T09:55:43.739949Z",
          "iopub.status.idle": "2020-08-17T09:55:43.742791Z",
          "shell.execute_reply": "2020-08-17T09:55:43.742276Z"
        },
        "id": "gGVg8kZ8VZOH",
        "papermill": {
          "duration": 0.352355,
          "end_time": "2020-08-17T09:55:43.742903",
          "exception": false,
          "start_time": "2020-08-17T09:55:43.390548",
          "status": "completed"
        },
        "tags": []
      },
      "outputs": [],
      "source": [
        "# Device configuration\n",
        "device = torch.device('cuda' if torch.cuda.is_available() else 'cpu')"
      ]
    },
    {
      "cell_type": "code",
      "execution_count": 8,
      "metadata": {
        "colab": {
          "base_uri": "https://localhost:8080/"
        },
        "execution": {
          "iopub.execute_input": "2020-08-17T09:55:43.774672Z",
          "iopub.status.busy": "2020-08-17T09:55:43.773773Z",
          "iopub.status.idle": "2020-08-17T09:55:43.777927Z",
          "shell.execute_reply": "2020-08-17T09:55:43.777403Z"
        },
        "id": "eerZtGkIVZOH",
        "outputId": "34c0a92d-eef6-45a3-fdc7-616c384504f3",
        "papermill": {
          "duration": 0.021476,
          "end_time": "2020-08-17T09:55:43.778025",
          "exception": false,
          "start_time": "2020-08-17T09:55:43.756549",
          "status": "completed"
        },
        "tags": []
      },
      "outputs": [
        {
          "output_type": "execute_result",
          "data": {
            "text/plain": [
              "device(type='cuda')"
            ]
          },
          "metadata": {},
          "execution_count": 8
        }
      ],
      "source": [
        "device"
      ]
    },
    {
      "cell_type": "markdown",
      "metadata": {
        "id": "ucDnjznxVZOI",
        "papermill": {
          "duration": 0.012711,
          "end_time": "2020-08-17T09:55:43.803739",
          "exception": false,
          "start_time": "2020-08-17T09:55:43.791028",
          "status": "completed"
        },
        "tags": []
      },
      "source": [
        "## 1. Discriminator Network\n",
        "\n",
        "The discriminator takes an image as input, and tries to classify it as \"real\" or \"generated\". In this sense, it's like any other neural network. While we can use a CNN for the discriminator, we'll use a simple feedforward network with 3 linear layers to keep things since. We'll treat each 28x28 image as a vector of size 784."
      ]
    },
    {
      "cell_type": "code",
      "execution_count": 9,
      "metadata": {
        "execution": {
          "iopub.execute_input": "2020-08-17T09:55:43.835108Z",
          "iopub.status.busy": "2020-08-17T09:55:43.834087Z",
          "iopub.status.idle": "2020-08-17T09:55:43.837279Z",
          "shell.execute_reply": "2020-08-17T09:55:43.836767Z"
        },
        "id": "jvY1GM2YVZOI",
        "papermill": {
          "duration": 0.020292,
          "end_time": "2020-08-17T09:55:43.837398",
          "exception": false,
          "start_time": "2020-08-17T09:55:43.817106",
          "status": "completed"
        },
        "tags": []
      },
      "outputs": [],
      "source": [
        "image_size = 784\n",
        "hidden_size = 256"
      ]
    },
    {
      "cell_type": "code",
      "execution_count": 10,
      "metadata": {
        "execution": {
          "iopub.execute_input": "2020-08-17T09:55:43.870357Z",
          "iopub.status.busy": "2020-08-17T09:55:43.869636Z",
          "iopub.status.idle": "2020-08-17T09:55:43.876096Z",
          "shell.execute_reply": "2020-08-17T09:55:43.875605Z"
        },
        "id": "3JsKEAb9VZOI",
        "papermill": {
          "duration": 0.025096,
          "end_time": "2020-08-17T09:55:43.876208",
          "exception": false,
          "start_time": "2020-08-17T09:55:43.851112",
          "status": "completed"
        },
        "tags": []
      },
      "outputs": [],
      "source": [
        "import torch.nn as nn\n",
        "\n",
        "D = nn.Sequential(\n",
        "    nn.Linear(image_size, hidden_size),\n",
        "    nn.LeakyReLU(0.2),\n",
        "    nn.Linear(hidden_size, hidden_size),\n",
        "    nn.LeakyReLU(0.2),\n",
        "    nn.Linear(hidden_size, 1),\n",
        "    nn.Sigmoid()\n",
        ")"
      ]
    },
    {
      "cell_type": "code",
      "execution_count": 11,
      "metadata": {
        "execution": {
          "iopub.execute_input": "2020-08-17T09:55:43.938968Z",
          "iopub.status.busy": "2020-08-17T09:55:43.938202Z",
          "iopub.status.idle": "2020-08-17T09:55:50.942528Z",
          "shell.execute_reply": "2020-08-17T09:55:50.943042Z"
        },
        "id": "K1fmWLNnVZOJ",
        "papermill": {
          "duration": 7.026268,
          "end_time": "2020-08-17T09:55:50.943194",
          "exception": false,
          "start_time": "2020-08-17T09:55:43.916926",
          "status": "completed"
        },
        "tags": []
      },
      "outputs": [],
      "source": [
        "D.to(device);"
      ]
    },
    {
      "cell_type": "markdown",
      "metadata": {
        "id": "GaXQ0sDKVZOJ",
        "papermill": {
          "duration": 0.013316,
          "end_time": "2020-08-17T09:55:50.970787",
          "exception": false,
          "start_time": "2020-08-17T09:55:50.957471",
          "status": "completed"
        },
        "tags": []
      },
      "source": [
        "## 2. Build Generator Network\n",
        "\n",
        "The input to the generator is typically a vector or a matrix which is used as a seed for generating an image. Once again, to keep things simple, we'll use a feedfoward neural network with 3 layers, and the output will be a vector of size 784, which can be transformed to a 28x28 px image."
      ]
    },
    {
      "cell_type": "markdown",
      "metadata": {
        "id": "y9cY38gMVZOK",
        "papermill": {
          "duration": 0.013729,
          "end_time": "2020-08-17T09:55:51.070415",
          "exception": false,
          "start_time": "2020-08-17T09:55:51.056686",
          "status": "completed"
        },
        "tags": []
      },
      "source": [
        "We use the TanH activation function for the output layer of the generator.\n",
        "\n",
        "<img src=\"https://nic.schraudolph.org/teach/NNcourse/figs/tanh.gif\" width=\"420\" >\n",
        "\n",
        "> \"The ReLU activation (Nair & Hinton, 2010) is used in the generator with the exception of the output layer which uses the Tanh function. We observed that using a bounded activation allowed the model to learn more quickly to saturate and cover the color space of the training distribution. Within the discriminator we found the leaky rectified activation (Maas et al., 2013) (Xu et al., 2015) to work well, especially for higher resolution modeling.\" - [Source](https://stackoverflow.com/questions/41489907/generative-adversarial-networks-tanh)\n",
        "\n",
        "\n",
        "Note that since the outputs of the TanH activation lie in the range `[-1,1]`, we have applied the same transformation to the images in the training dataset. Let's generate an output vector using the generator and view it as an image by transforming and denormalizing the output."
      ]
    },
    {
      "cell_type": "code",
      "execution_count": 12,
      "metadata": {
        "execution": {
          "iopub.execute_input": "2020-08-17T09:55:51.001873Z",
          "iopub.status.busy": "2020-08-17T09:55:51.001092Z",
          "iopub.status.idle": "2020-08-17T09:55:51.003649Z",
          "shell.execute_reply": "2020-08-17T09:55:51.004145Z"
        },
        "id": "yKyIpUuuVZOJ",
        "papermill": {
          "duration": 0.01996,
          "end_time": "2020-08-17T09:55:51.004261",
          "exception": false,
          "start_time": "2020-08-17T09:55:50.984301",
          "status": "completed"
        },
        "tags": []
      },
      "outputs": [],
      "source": [
        "latent_size = 64"
      ]
    },
    {
      "cell_type": "code",
      "execution_count": 13,
      "metadata": {
        "execution": {
          "iopub.execute_input": "2020-08-17T09:55:51.037163Z",
          "iopub.status.busy": "2020-08-17T09:55:51.036261Z",
          "iopub.status.idle": "2020-08-17T09:55:51.042579Z",
          "shell.execute_reply": "2020-08-17T09:55:51.042077Z"
        },
        "id": "KMPJ-D8wVZOK",
        "papermill": {
          "duration": 0.024698,
          "end_time": "2020-08-17T09:55:51.042678",
          "exception": false,
          "start_time": "2020-08-17T09:55:51.017980",
          "status": "completed"
        },
        "tags": []
      },
      "outputs": [],
      "source": [
        "G = nn.Sequential(\n",
        "    nn.Linear(latent_size, hidden_size),\n",
        "    nn.ReLU(),\n",
        "    nn.Linear(hidden_size, hidden_size),\n",
        "    nn.ReLU(),\n",
        "    nn.Linear(hidden_size, image_size),\n",
        "    nn.Tanh())"
      ]
    },
    {
      "cell_type": "code",
      "source": [
        "G.to(device);"
      ],
      "metadata": {
        "id": "b0IacmUf8dWj"
      },
      "execution_count": 14,
      "outputs": []
    },
    {
      "cell_type": "code",
      "source": [
        "# Test the generator\n",
        "xb = torch.randn(1, latent_size).to(device)\n",
        "fake_images = G(xb)\n",
        "print(fake_images.shape)\n",
        "img_generated = denorm(fake_images[0].reshape(28, 28).detach()).cpu()\n",
        "plt.imshow(img_generated, cmap='gray')"
      ],
      "metadata": {
        "colab": {
          "base_uri": "https://localhost:8080/",
          "height": 465
        },
        "id": "fEwIBEN69aii",
        "outputId": "9e08e67a-cde2-4478-f3aa-cbddad25cd50"
      },
      "execution_count": 15,
      "outputs": [
        {
          "output_type": "stream",
          "name": "stdout",
          "text": [
            "torch.Size([1, 784])\n"
          ]
        },
        {
          "output_type": "execute_result",
          "data": {
            "text/plain": [
              "<matplotlib.image.AxesImage at 0x7f3ca2064450>"
            ]
          },
          "metadata": {},
          "execution_count": 15
        },
        {
          "output_type": "display_data",
          "data": {
            "text/plain": [
              "<Figure size 640x480 with 1 Axes>"
            ],
            "image/png": "[encoded data removed]"
          },
          "metadata": {}
        }
      ]
    },
    {
      "cell_type": "markdown",
      "metadata": {
        "id": "EEnpJkMfVZON",
        "papermill": {
          "duration": 0.014736,
          "end_time": "2020-08-17T09:55:51.840863",
          "exception": false,
          "start_time": "2020-08-17T09:55:51.826127",
          "status": "completed"
        },
        "tags": []
      },
      "source": [
        "## 3. Train the Model\n",
        "\n",
        "* train the model\n",
        "* save samples of generated images after each epoch -> use the ``denorm()`` function"
      ]
    },
    {
      "cell_type": "code",
      "source": [
        "import os\n",
        "\n",
        "# setup training and optimizer\n",
        "criterion = nn.BCELoss()\n",
        "d_optimizer = torch.optim.Adam(D.parameters(), lr=0.0002)\n",
        "g_optimizer = torch.optim.Adam(G.parameters(), lr=0.0002)\n",
        "\n",
        "def reset_grad():\n",
        "    d_optimizer.zero_grad()\n",
        "    g_optimizer.zero_grad()\n",
        "\n",
        "num_epochs = 200\n",
        "sample_dir = 'samples'\n",
        "!mkdir -p $sample_dir\n",
        "\n",
        "fixed_latent = torch.randn(batch_size, latent_size).to(device)\n",
        "\n",
        "for epoch in range(num_epochs):\n",
        "  for i, (images, _) in enumerate(data_loader):\n",
        "\n",
        "    images = images.reshape(batch_size, -1).to(device)\n",
        "    real_labels = torch.ones(batch_size, 1).to(device)\n",
        "    fake_labels = torch.zeros(batch_size, 1).to(device)\n",
        "\n",
        "    outputs = D(images)\n",
        "    d_loss_real = criterion(outputs, real_labels)\n",
        "    real_score = outputs\n",
        "\n",
        "    z = torch.randn(batch_size, latent_size).to(device)\n",
        "    fake_images = G(z)\n",
        "    outputs = D(fake_images.detach())\n",
        "    d_loss_fake = criterion(outputs, fake_labels)\n",
        "    fake_score = outputs\n",
        "    d_loss = d_loss_real + d_loss_fake\n",
        "    reset_grad()\n",
        "    d_loss.backward()\n",
        "    d_optimizer.step()\n",
        "\n",
        "    z = torch.randn(batch_size, latent_size).to(device)\n",
        "    fake_images = G(z)\n",
        "    outputs = D(fake_images)\n",
        "    g_loss = criterion(outputs, real_labels)\n",
        "    reset_grad()\n",
        "    g_loss.backward()\n",
        "    g_optimizer.step()\n",
        "\n",
        "    if (i+1) % 200 == 0:\n",
        "      print('Epoch [{}/{}], Step [{}/{}], D_loss: {:.4f}, G_loss: {:.4f}, D(x): {:.2f}, D(G(z)): {:.2f}'\n",
        "            .format(epoch, num_epochs, i+1, len(data_loader), d_loss.item(), g_loss.item(), real_score.mean().item(), fake_score.mean().item()))\n",
        "\n",
        "    fake_images = G(fixed_latent)\n",
        "    fake_images = fake_images.reshape(fake_images.size(0), 1, 28, 28)\n",
        "    sample_path = os.path.join(sample_dir, 'fake_images-{}.png'.format(epoch+1))\n",
        "    torchvision.utils.save_image(denorm(fake_images.cpu()), sample_path)\n"
      ],
      "metadata": {
        "colab": {
          "base_uri": "https://localhost:8080/"
        },
        "id": "p9gy41SP_JcY",
        "outputId": "4ce881d5-0d12-474f-8ac5-22ea3059764a"
      },
      "execution_count": 16,
      "outputs": [
        {
          "output_type": "stream",
          "name": "stdout",
          "text": [
            "Epoch [0/200], Step [200/600], D_loss: 0.0753, G_loss: 4.0331, D(x): 0.99, D(G(z)): 0.06\n",
            "Epoch [0/200], Step [400/600], D_loss: 0.1571, G_loss: 5.8400, D(x): 0.94, D(G(z)): 0.07\n",
            "Epoch [0/200], Step [600/600], D_loss: 0.0332, G_loss: 5.3597, D(x): 0.98, D(G(z)): 0.01\n",
            "Epoch [1/200], Step [200/600], D_loss: 0.1004, G_loss: 4.6272, D(x): 0.94, D(G(z)): 0.03\n",
            "Epoch [1/200], Step [400/600], D_loss: 0.3975, G_loss: 3.8639, D(x): 0.84, D(G(z)): 0.09\n",
            "Epoch [1/200], Step [600/600], D_loss: 0.0577, G_loss: 5.9808, D(x): 0.99, D(G(z)): 0.04\n",
            "Epoch [2/200], Step [200/600], D_loss: 0.2054, G_loss: 3.7770, D(x): 0.95, D(G(z)): 0.11\n",
            "Epoch [2/200], Step [400/600], D_loss: 0.4747, G_loss: 2.0010, D(x): 0.85, D(G(z)): 0.20\n",
            "Epoch [2/200], Step [600/600], D_loss: 0.2595, G_loss: 4.4524, D(x): 0.88, D(G(z)): 0.05\n",
            "Epoch [3/200], Step [200/600], D_loss: 0.1648, G_loss: 3.4214, D(x): 0.97, D(G(z)): 0.12\n",
            "Epoch [3/200], Step [400/600], D_loss: 2.0871, G_loss: 2.0571, D(x): 0.62, D(G(z)): 0.58\n",
            "Epoch [3/200], Step [600/600], D_loss: 0.7392, G_loss: 2.4365, D(x): 0.79, D(G(z)): 0.20\n",
            "Epoch [4/200], Step [200/600], D_loss: 0.6704, G_loss: 2.5193, D(x): 0.84, D(G(z)): 0.23\n",
            "Epoch [4/200], Step [400/600], D_loss: 0.5538, G_loss: 2.5171, D(x): 0.86, D(G(z)): 0.26\n",
            "Epoch [4/200], Step [600/600], D_loss: 0.4696, G_loss: 3.0191, D(x): 0.83, D(G(z)): 0.16\n",
            "Epoch [5/200], Step [200/600], D_loss: 0.0644, G_loss: 3.9427, D(x): 0.97, D(G(z)): 0.03\n",
            "Epoch [5/200], Step [400/600], D_loss: 0.4615, G_loss: 2.6508, D(x): 0.89, D(G(z)): 0.17\n",
            "Epoch [5/200], Step [600/600], D_loss: 0.1031, G_loss: 4.1631, D(x): 0.96, D(G(z)): 0.04\n",
            "Epoch [6/200], Step [200/600], D_loss: 0.1270, G_loss: 5.4506, D(x): 0.96, D(G(z)): 0.03\n",
            "Epoch [6/200], Step [400/600], D_loss: 0.7717, G_loss: 3.1734, D(x): 0.92, D(G(z)): 0.39\n",
            "Epoch [6/200], Step [600/600], D_loss: 0.4021, G_loss: 4.1390, D(x): 0.87, D(G(z)): 0.02\n",
            "Epoch [7/200], Step [200/600], D_loss: 0.1946, G_loss: 5.2320, D(x): 0.97, D(G(z)): 0.13\n",
            "Epoch [7/200], Step [400/600], D_loss: 0.2137, G_loss: 5.1102, D(x): 0.92, D(G(z)): 0.02\n",
            "Epoch [7/200], Step [600/600], D_loss: 0.5278, G_loss: 4.0420, D(x): 0.94, D(G(z)): 0.22\n",
            "Epoch [8/200], Step [200/600], D_loss: 0.0922, G_loss: 4.3340, D(x): 0.97, D(G(z)): 0.05\n",
            "Epoch [8/200], Step [400/600], D_loss: 0.1798, G_loss: 4.4002, D(x): 0.96, D(G(z)): 0.09\n",
            "Epoch [8/200], Step [600/600], D_loss: 0.2781, G_loss: 4.5456, D(x): 0.91, D(G(z)): 0.08\n",
            "Epoch [9/200], Step [200/600], D_loss: 0.1476, G_loss: 3.6356, D(x): 0.96, D(G(z)): 0.05\n",
            "Epoch [9/200], Step [400/600], D_loss: 0.2783, G_loss: 3.3116, D(x): 0.87, D(G(z)): 0.05\n",
            "Epoch [9/200], Step [600/600], D_loss: 0.0597, G_loss: 5.1517, D(x): 0.97, D(G(z)): 0.03\n",
            "Epoch [10/200], Step [200/600], D_loss: 0.2332, G_loss: 7.3126, D(x): 0.92, D(G(z)): 0.02\n",
            "Epoch [10/200], Step [400/600], D_loss: 0.1410, G_loss: 4.2405, D(x): 0.95, D(G(z)): 0.06\n",
            "Epoch [10/200], Step [600/600], D_loss: 0.0932, G_loss: 5.1161, D(x): 0.95, D(G(z)): 0.03\n",
            "Epoch [11/200], Step [200/600], D_loss: 0.1215, G_loss: 4.7847, D(x): 0.98, D(G(z)): 0.06\n",
            "Epoch [11/200], Step [400/600], D_loss: 0.2185, G_loss: 5.4819, D(x): 0.95, D(G(z)): 0.05\n",
            "Epoch [11/200], Step [600/600], D_loss: 0.3169, G_loss: 5.1763, D(x): 0.95, D(G(z)): 0.14\n",
            "Epoch [12/200], Step [200/600], D_loss: 0.4744, G_loss: 6.1918, D(x): 0.88, D(G(z)): 0.01\n",
            "Epoch [12/200], Step [400/600], D_loss: 0.1349, G_loss: 6.1388, D(x): 0.94, D(G(z)): 0.01\n",
            "Epoch [12/200], Step [600/600], D_loss: 0.1141, G_loss: 7.3684, D(x): 0.97, D(G(z)): 0.02\n",
            "Epoch [13/200], Step [200/600], D_loss: 0.1328, G_loss: 3.7405, D(x): 0.96, D(G(z)): 0.04\n",
            "Epoch [13/200], Step [400/600], D_loss: 0.1259, G_loss: 5.7419, D(x): 0.98, D(G(z)): 0.07\n",
            "Epoch [13/200], Step [600/600], D_loss: 0.0423, G_loss: 8.8135, D(x): 0.98, D(G(z)): 0.02\n",
            "Epoch [14/200], Step [200/600], D_loss: 0.3229, G_loss: 5.5207, D(x): 0.87, D(G(z)): 0.01\n",
            "Epoch [14/200], Step [400/600], D_loss: 0.0990, G_loss: 7.0547, D(x): 0.97, D(G(z)): 0.04\n",
            "Epoch [14/200], Step [600/600], D_loss: 0.0341, G_loss: 7.3886, D(x): 0.98, D(G(z)): 0.01\n",
            "Epoch [15/200], Step [200/600], D_loss: 0.2614, G_loss: 5.8934, D(x): 0.93, D(G(z)): 0.01\n",
            "Epoch [15/200], Step [400/600], D_loss: 0.2371, G_loss: 5.9510, D(x): 0.91, D(G(z)): 0.01\n",
            "Epoch [15/200], Step [600/600], D_loss: 0.2319, G_loss: 5.9760, D(x): 0.91, D(G(z)): 0.02\n",
            "Epoch [16/200], Step [200/600], D_loss: 0.2089, G_loss: 5.4300, D(x): 0.94, D(G(z)): 0.02\n",
            "Epoch [16/200], Step [400/600], D_loss: 0.2285, G_loss: 7.5033, D(x): 0.91, D(G(z)): 0.02\n",
            "Epoch [16/200], Step [600/600], D_loss: 0.1182, G_loss: 5.7227, D(x): 0.94, D(G(z)): 0.01\n",
            "Epoch [17/200], Step [200/600], D_loss: 0.0818, G_loss: 5.3868, D(x): 0.98, D(G(z)): 0.04\n",
            "Epoch [17/200], Step [400/600], D_loss: 0.2268, G_loss: 6.3953, D(x): 0.93, D(G(z)): 0.03\n",
            "Epoch [17/200], Step [600/600], D_loss: 0.3759, G_loss: 3.8686, D(x): 0.88, D(G(z)): 0.03\n",
            "Epoch [18/200], Step [200/600], D_loss: 0.3340, G_loss: 4.3583, D(x): 0.89, D(G(z)): 0.07\n",
            "Epoch [18/200], Step [400/600], D_loss: 0.3735, G_loss: 6.3763, D(x): 0.89, D(G(z)): 0.03\n",
            "Epoch [18/200], Step [600/600], D_loss: 0.1991, G_loss: 4.3830, D(x): 0.93, D(G(z)): 0.05\n",
            "Epoch [19/200], Step [200/600], D_loss: 0.2561, G_loss: 4.2707, D(x): 0.93, D(G(z)): 0.09\n",
            "Epoch [19/200], Step [400/600], D_loss: 0.2142, G_loss: 5.2832, D(x): 0.98, D(G(z)): 0.12\n",
            "Epoch [19/200], Step [600/600], D_loss: 0.1330, G_loss: 6.4458, D(x): 0.95, D(G(z)): 0.03\n",
            "Epoch [20/200], Step [200/600], D_loss: 0.3520, G_loss: 3.9531, D(x): 0.88, D(G(z)): 0.03\n",
            "Epoch [20/200], Step [400/600], D_loss: 0.2278, G_loss: 4.0825, D(x): 0.96, D(G(z)): 0.11\n",
            "Epoch [20/200], Step [600/600], D_loss: 0.2559, G_loss: 4.9538, D(x): 0.96, D(G(z)): 0.14\n",
            "Epoch [21/200], Step [200/600], D_loss: 0.1597, G_loss: 7.9664, D(x): 0.96, D(G(z)): 0.03\n",
            "Epoch [21/200], Step [400/600], D_loss: 0.3109, G_loss: 4.5899, D(x): 0.88, D(G(z)): 0.01\n",
            "Epoch [21/200], Step [600/600], D_loss: 0.3497, G_loss: 5.5008, D(x): 0.96, D(G(z)): 0.18\n",
            "Epoch [22/200], Step [200/600], D_loss: 0.3854, G_loss: 4.4474, D(x): 0.89, D(G(z)): 0.08\n",
            "Epoch [22/200], Step [400/600], D_loss: 0.1483, G_loss: 4.5904, D(x): 0.99, D(G(z)): 0.11\n",
            "Epoch [22/200], Step [600/600], D_loss: 0.2828, G_loss: 7.6342, D(x): 0.89, D(G(z)): 0.02\n",
            "Epoch [23/200], Step [200/600], D_loss: 0.4843, G_loss: 5.0629, D(x): 0.85, D(G(z)): 0.02\n",
            "Epoch [23/200], Step [400/600], D_loss: 0.2708, G_loss: 4.0054, D(x): 0.95, D(G(z)): 0.14\n",
            "Epoch [23/200], Step [600/600], D_loss: 0.2547, G_loss: 4.0322, D(x): 0.98, D(G(z)): 0.16\n",
            "Epoch [24/200], Step [200/600], D_loss: 0.2894, G_loss: 5.2410, D(x): 0.91, D(G(z)): 0.05\n",
            "Epoch [24/200], Step [400/600], D_loss: 0.3433, G_loss: 4.4058, D(x): 0.94, D(G(z)): 0.16\n",
            "Epoch [24/200], Step [600/600], D_loss: 0.2400, G_loss: 5.0166, D(x): 0.93, D(G(z)): 0.07\n",
            "Epoch [25/200], Step [200/600], D_loss: 0.2801, G_loss: 4.3080, D(x): 0.97, D(G(z)): 0.17\n",
            "Epoch [25/200], Step [400/600], D_loss: 0.4919, G_loss: 3.8885, D(x): 0.92, D(G(z)): 0.18\n",
            "Epoch [25/200], Step [600/600], D_loss: 0.2810, G_loss: 4.2563, D(x): 0.90, D(G(z)): 0.05\n",
            "Epoch [26/200], Step [200/600], D_loss: 0.3896, G_loss: 4.9567, D(x): 0.90, D(G(z)): 0.04\n",
            "Epoch [26/200], Step [400/600], D_loss: 0.3340, G_loss: 3.8850, D(x): 0.91, D(G(z)): 0.08\n",
            "Epoch [26/200], Step [600/600], D_loss: 0.2873, G_loss: 4.4740, D(x): 0.93, D(G(z)): 0.04\n",
            "Epoch [27/200], Step [200/600], D_loss: 0.2592, G_loss: 4.5868, D(x): 0.93, D(G(z)): 0.08\n",
            "Epoch [27/200], Step [400/600], D_loss: 0.3520, G_loss: 5.2992, D(x): 0.87, D(G(z)): 0.04\n",
            "Epoch [27/200], Step [600/600], D_loss: 0.6282, G_loss: 4.1834, D(x): 0.88, D(G(z)): 0.20\n",
            "Epoch [28/200], Step [200/600], D_loss: 0.4514, G_loss: 4.2229, D(x): 0.95, D(G(z)): 0.23\n",
            "Epoch [28/200], Step [400/600], D_loss: 0.1621, G_loss: 4.5258, D(x): 0.97, D(G(z)): 0.09\n",
            "Epoch [28/200], Step [600/600], D_loss: 0.1931, G_loss: 3.5433, D(x): 0.93, D(G(z)): 0.07\n",
            "Epoch [29/200], Step [200/600], D_loss: 0.3435, G_loss: 5.7579, D(x): 0.90, D(G(z)): 0.09\n",
            "Epoch [29/200], Step [400/600], D_loss: 0.1323, G_loss: 5.6430, D(x): 0.95, D(G(z)): 0.05\n",
            "Epoch [29/200], Step [600/600], D_loss: 0.3487, G_loss: 4.6753, D(x): 0.90, D(G(z)): 0.09\n",
            "Epoch [30/200], Step [200/600], D_loss: 0.3910, G_loss: 4.2634, D(x): 0.87, D(G(z)): 0.08\n",
            "Epoch [30/200], Step [400/600], D_loss: 0.2729, G_loss: 4.1006, D(x): 0.93, D(G(z)): 0.11\n",
            "Epoch [30/200], Step [600/600], D_loss: 0.1578, G_loss: 4.7143, D(x): 0.97, D(G(z)): 0.08\n",
            "Epoch [31/200], Step [200/600], D_loss: 0.1458, G_loss: 5.2122, D(x): 0.97, D(G(z)): 0.07\n",
            "Epoch [31/200], Step [400/600], D_loss: 0.4249, G_loss: 4.9462, D(x): 0.94, D(G(z)): 0.17\n",
            "Epoch [31/200], Step [600/600], D_loss: 0.1174, G_loss: 3.7179, D(x): 0.95, D(G(z)): 0.03\n",
            "Epoch [32/200], Step [200/600], D_loss: 0.2973, G_loss: 5.5881, D(x): 0.89, D(G(z)): 0.07\n",
            "Epoch [32/200], Step [400/600], D_loss: 0.2826, G_loss: 4.1824, D(x): 0.90, D(G(z)): 0.09\n",
            "Epoch [32/200], Step [600/600], D_loss: 0.4338, G_loss: 3.9149, D(x): 0.89, D(G(z)): 0.11\n",
            "Epoch [33/200], Step [200/600], D_loss: 0.2316, G_loss: 4.2258, D(x): 0.93, D(G(z)): 0.08\n",
            "Epoch [33/200], Step [400/600], D_loss: 0.3225, G_loss: 3.6881, D(x): 0.90, D(G(z)): 0.07\n",
            "Epoch [33/200], Step [600/600], D_loss: 0.3506, G_loss: 4.1429, D(x): 0.86, D(G(z)): 0.07\n",
            "Epoch [34/200], Step [200/600], D_loss: 0.3880, G_loss: 3.2916, D(x): 0.89, D(G(z)): 0.12\n",
            "Epoch [34/200], Step [400/600], D_loss: 0.3754, G_loss: 3.8806, D(x): 0.86, D(G(z)): 0.07\n",
            "Epoch [34/200], Step [600/600], D_loss: 0.4913, G_loss: 3.7969, D(x): 0.91, D(G(z)): 0.20\n",
            "Epoch [35/200], Step [200/600], D_loss: 0.2321, G_loss: 3.2731, D(x): 0.91, D(G(z)): 0.07\n",
            "Epoch [35/200], Step [400/600], D_loss: 0.4984, G_loss: 4.4266, D(x): 0.87, D(G(z)): 0.08\n",
            "Epoch [35/200], Step [600/600], D_loss: 0.4359, G_loss: 3.0813, D(x): 0.90, D(G(z)): 0.14\n",
            "Epoch [36/200], Step [200/600], D_loss: 0.3888, G_loss: 4.0208, D(x): 0.86, D(G(z)): 0.08\n",
            "Epoch [36/200], Step [400/600], D_loss: 0.4614, G_loss: 3.4111, D(x): 0.89, D(G(z)): 0.18\n",
            "Epoch [36/200], Step [600/600], D_loss: 0.5806, G_loss: 3.0757, D(x): 0.80, D(G(z)): 0.11\n",
            "Epoch [37/200], Step [200/600], D_loss: 0.5255, G_loss: 2.6828, D(x): 0.90, D(G(z)): 0.21\n",
            "Epoch [37/200], Step [400/600], D_loss: 0.4464, G_loss: 4.6513, D(x): 0.87, D(G(z)): 0.11\n",
            "Epoch [37/200], Step [600/600], D_loss: 0.4060, G_loss: 4.1110, D(x): 0.88, D(G(z)): 0.12\n",
            "Epoch [38/200], Step [200/600], D_loss: 0.2625, G_loss: 3.3125, D(x): 0.92, D(G(z)): 0.10\n",
            "Epoch [38/200], Step [400/600], D_loss: 0.3143, G_loss: 6.2218, D(x): 0.92, D(G(z)): 0.11\n",
            "Epoch [38/200], Step [600/600], D_loss: 0.2031, G_loss: 4.7836, D(x): 0.93, D(G(z)): 0.08\n",
            "Epoch [39/200], Step [200/600], D_loss: 0.1768, G_loss: 5.3908, D(x): 0.95, D(G(z)): 0.06\n",
            "Epoch [39/200], Step [400/600], D_loss: 0.3942, G_loss: 4.9845, D(x): 0.86, D(G(z)): 0.07\n",
            "Epoch [39/200], Step [600/600], D_loss: 0.4592, G_loss: 4.3489, D(x): 0.92, D(G(z)): 0.18\n",
            "Epoch [40/200], Step [200/600], D_loss: 0.3899, G_loss: 3.6455, D(x): 0.88, D(G(z)): 0.08\n",
            "Epoch [40/200], Step [400/600], D_loss: 0.2793, G_loss: 3.5836, D(x): 0.90, D(G(z)): 0.07\n",
            "Epoch [40/200], Step [600/600], D_loss: 0.4731, G_loss: 3.9690, D(x): 0.84, D(G(z)): 0.14\n",
            "Epoch [41/200], Step [200/600], D_loss: 0.4610, G_loss: 3.6705, D(x): 0.86, D(G(z)): 0.14\n",
            "Epoch [41/200], Step [400/600], D_loss: 0.5298, G_loss: 4.0308, D(x): 0.91, D(G(z)): 0.26\n",
            "Epoch [41/200], Step [600/600], D_loss: 0.5084, G_loss: 3.5066, D(x): 0.83, D(G(z)): 0.11\n",
            "Epoch [42/200], Step [200/600], D_loss: 0.5316, G_loss: 3.5715, D(x): 0.82, D(G(z)): 0.15\n",
            "Epoch [42/200], Step [400/600], D_loss: 0.4800, G_loss: 2.6088, D(x): 0.92, D(G(z)): 0.20\n",
            "Epoch [42/200], Step [600/600], D_loss: 0.6003, G_loss: 2.3575, D(x): 0.85, D(G(z)): 0.23\n",
            "Epoch [43/200], Step [200/600], D_loss: 0.6563, G_loss: 2.9778, D(x): 0.78, D(G(z)): 0.12\n",
            "Epoch [43/200], Step [400/600], D_loss: 0.7312, G_loss: 2.9044, D(x): 0.85, D(G(z)): 0.27\n",
            "Epoch [43/200], Step [600/600], D_loss: 0.6824, G_loss: 2.3268, D(x): 0.79, D(G(z)): 0.18\n",
            "Epoch [44/200], Step [200/600], D_loss: 0.5671, G_loss: 3.3992, D(x): 0.82, D(G(z)): 0.15\n",
            "Epoch [44/200], Step [400/600], D_loss: 0.5609, G_loss: 2.3811, D(x): 0.85, D(G(z)): 0.21\n",
            "Epoch [44/200], Step [600/600], D_loss: 0.5962, G_loss: 2.5042, D(x): 0.83, D(G(z)): 0.22\n",
            "Epoch [45/200], Step [200/600], D_loss: 0.5562, G_loss: 2.3994, D(x): 0.82, D(G(z)): 0.18\n",
            "Epoch [45/200], Step [400/600], D_loss: 0.5888, G_loss: 3.0242, D(x): 0.81, D(G(z)): 0.21\n",
            "Epoch [45/200], Step [600/600], D_loss: 0.6647, G_loss: 2.5765, D(x): 0.74, D(G(z)): 0.07\n",
            "Epoch [46/200], Step [200/600], D_loss: 0.5111, G_loss: 2.9732, D(x): 0.83, D(G(z)): 0.17\n",
            "Epoch [46/200], Step [400/600], D_loss: 0.4655, G_loss: 2.2666, D(x): 0.83, D(G(z)): 0.13\n",
            "Epoch [46/200], Step [600/600], D_loss: 0.5720, G_loss: 2.8516, D(x): 0.78, D(G(z)): 0.12\n",
            "Epoch [47/200], Step [200/600], D_loss: 0.5895, G_loss: 2.5638, D(x): 0.81, D(G(z)): 0.19\n",
            "Epoch [47/200], Step [400/600], D_loss: 0.6485, G_loss: 2.5560, D(x): 0.89, D(G(z)): 0.27\n",
            "Epoch [47/200], Step [600/600], D_loss: 0.6891, G_loss: 2.2528, D(x): 0.75, D(G(z)): 0.16\n",
            "Epoch [48/200], Step [200/600], D_loss: 0.5375, G_loss: 3.1134, D(x): 0.87, D(G(z)): 0.24\n",
            "Epoch [48/200], Step [400/600], D_loss: 0.5205, G_loss: 2.1929, D(x): 0.85, D(G(z)): 0.20\n",
            "Epoch [48/200], Step [600/600], D_loss: 0.4495, G_loss: 3.0318, D(x): 0.87, D(G(z)): 0.18\n",
            "Epoch [49/200], Step [200/600], D_loss: 0.3678, G_loss: 3.0173, D(x): 0.86, D(G(z)): 0.10\n",
            "Epoch [49/200], Step [400/600], D_loss: 0.4556, G_loss: 3.6732, D(x): 0.82, D(G(z)): 0.09\n",
            "Epoch [49/200], Step [600/600], D_loss: 0.3893, G_loss: 2.6471, D(x): 0.89, D(G(z)): 0.16\n",
            "Epoch [50/200], Step [200/600], D_loss: 0.3007, G_loss: 4.8773, D(x): 0.88, D(G(z)): 0.08\n",
            "Epoch [50/200], Step [400/600], D_loss: 0.3599, G_loss: 4.1219, D(x): 0.88, D(G(z)): 0.13\n",
            "Epoch [50/200], Step [600/600], D_loss: 0.4881, G_loss: 3.8391, D(x): 0.86, D(G(z)): 0.15\n",
            "Epoch [51/200], Step [200/600], D_loss: 0.5495, G_loss: 3.1014, D(x): 0.82, D(G(z)): 0.14\n",
            "Epoch [51/200], Step [400/600], D_loss: 0.4183, G_loss: 3.0655, D(x): 0.89, D(G(z)): 0.17\n",
            "Epoch [51/200], Step [600/600], D_loss: 0.5477, G_loss: 2.6088, D(x): 0.81, D(G(z)): 0.16\n",
            "Epoch [52/200], Step [200/600], D_loss: 0.4910, G_loss: 2.4090, D(x): 0.81, D(G(z)): 0.14\n",
            "Epoch [52/200], Step [400/600], D_loss: 0.4429, G_loss: 2.9632, D(x): 0.89, D(G(z)): 0.20\n",
            "Epoch [52/200], Step [600/600], D_loss: 0.7463, G_loss: 2.1873, D(x): 0.79, D(G(z)): 0.22\n",
            "Epoch [53/200], Step [200/600], D_loss: 0.6289, G_loss: 2.4100, D(x): 0.75, D(G(z)): 0.13\n",
            "Epoch [53/200], Step [400/600], D_loss: 0.6375, G_loss: 3.2520, D(x): 0.83, D(G(z)): 0.23\n",
            "Epoch [53/200], Step [600/600], D_loss: 0.7730, G_loss: 2.6624, D(x): 0.81, D(G(z)): 0.24\n",
            "Epoch [54/200], Step [200/600], D_loss: 0.4830, G_loss: 2.2701, D(x): 0.86, D(G(z)): 0.20\n",
            "Epoch [54/200], Step [400/600], D_loss: 0.5405, G_loss: 2.0514, D(x): 0.84, D(G(z)): 0.22\n",
            "Epoch [54/200], Step [600/600], D_loss: 0.8533, G_loss: 2.2678, D(x): 0.73, D(G(z)): 0.23\n",
            "Epoch [55/200], Step [200/600], D_loss: 0.8945, G_loss: 2.4868, D(x): 0.76, D(G(z)): 0.26\n",
            "Epoch [55/200], Step [400/600], D_loss: 0.6323, G_loss: 1.8535, D(x): 0.84, D(G(z)): 0.28\n",
            "Epoch [55/200], Step [600/600], D_loss: 0.8991, G_loss: 1.9796, D(x): 0.78, D(G(z)): 0.30\n",
            "Epoch [56/200], Step [200/600], D_loss: 0.5745, G_loss: 2.6182, D(x): 0.84, D(G(z)): 0.19\n",
            "Epoch [56/200], Step [400/600], D_loss: 0.5089, G_loss: 2.7639, D(x): 0.81, D(G(z)): 0.16\n",
            "Epoch [56/200], Step [600/600], D_loss: 0.6581, G_loss: 2.1222, D(x): 0.77, D(G(z)): 0.17\n",
            "Epoch [57/200], Step [200/600], D_loss: 0.5560, G_loss: 2.3252, D(x): 0.83, D(G(z)): 0.20\n",
            "Epoch [57/200], Step [400/600], D_loss: 0.6007, G_loss: 2.0727, D(x): 0.78, D(G(z)): 0.17\n",
            "Epoch [57/200], Step [600/600], D_loss: 0.7498, G_loss: 2.2287, D(x): 0.76, D(G(z)): 0.23\n",
            "Epoch [58/200], Step [200/600], D_loss: 0.6480, G_loss: 3.1404, D(x): 0.79, D(G(z)): 0.22\n",
            "Epoch [58/200], Step [400/600], D_loss: 0.9235, G_loss: 1.8841, D(x): 0.66, D(G(z)): 0.19\n",
            "Epoch [58/200], Step [600/600], D_loss: 0.7208, G_loss: 2.4182, D(x): 0.75, D(G(z)): 0.18\n",
            "Epoch [59/200], Step [200/600], D_loss: 0.7265, G_loss: 2.1165, D(x): 0.77, D(G(z)): 0.26\n",
            "Epoch [59/200], Step [400/600], D_loss: 0.6022, G_loss: 2.3904, D(x): 0.78, D(G(z)): 0.15\n",
            "Epoch [59/200], Step [600/600], D_loss: 0.4258, G_loss: 2.6846, D(x): 0.81, D(G(z)): 0.09\n",
            "Epoch [60/200], Step [200/600], D_loss: 0.7248, G_loss: 2.9383, D(x): 0.71, D(G(z)): 0.13\n",
            "Epoch [60/200], Step [400/600], D_loss: 0.5583, G_loss: 2.9794, D(x): 0.74, D(G(z)): 0.10\n",
            "Epoch [60/200], Step [600/600], D_loss: 0.5838, G_loss: 2.4876, D(x): 0.81, D(G(z)): 0.19\n",
            "Epoch [61/200], Step [200/600], D_loss: 0.4148, G_loss: 2.8089, D(x): 0.83, D(G(z)): 0.11\n",
            "Epoch [61/200], Step [400/600], D_loss: 0.4271, G_loss: 2.5453, D(x): 0.81, D(G(z)): 0.09\n",
            "Epoch [61/200], Step [600/600], D_loss: 0.5795, G_loss: 2.6070, D(x): 0.78, D(G(z)): 0.12\n",
            "Epoch [62/200], Step [200/600], D_loss: 0.4836, G_loss: 3.4771, D(x): 0.84, D(G(z)): 0.18\n",
            "Epoch [62/200], Step [400/600], D_loss: 0.4683, G_loss: 2.8033, D(x): 0.81, D(G(z)): 0.12\n",
            "Epoch [62/200], Step [600/600], D_loss: 0.4263, G_loss: 2.7020, D(x): 0.86, D(G(z)): 0.16\n",
            "Epoch [63/200], Step [200/600], D_loss: 0.3994, G_loss: 3.5805, D(x): 0.89, D(G(z)): 0.18\n",
            "Epoch [63/200], Step [400/600], D_loss: 0.4848, G_loss: 2.8480, D(x): 0.83, D(G(z)): 0.16\n",
            "Epoch [63/200], Step [600/600], D_loss: 0.5095, G_loss: 3.5015, D(x): 0.80, D(G(z)): 0.13\n",
            "Epoch [64/200], Step [200/600], D_loss: 0.5222, G_loss: 2.1195, D(x): 0.90, D(G(z)): 0.25\n",
            "Epoch [64/200], Step [400/600], D_loss: 0.5812, G_loss: 3.1088, D(x): 0.88, D(G(z)): 0.24\n",
            "Epoch [64/200], Step [600/600], D_loss: 0.5124, G_loss: 2.9111, D(x): 0.82, D(G(z)): 0.17\n",
            "Epoch [65/200], Step [200/600], D_loss: 0.5040, G_loss: 2.2257, D(x): 0.85, D(G(z)): 0.20\n",
            "Epoch [65/200], Step [400/600], D_loss: 0.5666, G_loss: 2.4426, D(x): 0.76, D(G(z)): 0.13\n",
            "Epoch [65/200], Step [600/600], D_loss: 0.6032, G_loss: 2.1692, D(x): 0.79, D(G(z)): 0.18\n",
            "Epoch [66/200], Step [200/600], D_loss: 0.8686, G_loss: 2.0048, D(x): 0.75, D(G(z)): 0.28\n",
            "Epoch [66/200], Step [400/600], D_loss: 0.7122, G_loss: 2.6291, D(x): 0.85, D(G(z)): 0.30\n",
            "Epoch [66/200], Step [600/600], D_loss: 0.6906, G_loss: 2.3172, D(x): 0.76, D(G(z)): 0.23\n",
            "Epoch [67/200], Step [200/600], D_loss: 0.6417, G_loss: 2.2679, D(x): 0.72, D(G(z)): 0.14\n",
            "Epoch [67/200], Step [400/600], D_loss: 0.5030, G_loss: 3.3016, D(x): 0.77, D(G(z)): 0.10\n",
            "Epoch [67/200], Step [600/600], D_loss: 0.5907, G_loss: 1.8834, D(x): 0.78, D(G(z)): 0.17\n",
            "Epoch [68/200], Step [200/600], D_loss: 0.7271, G_loss: 2.3638, D(x): 0.78, D(G(z)): 0.24\n",
            "Epoch [68/200], Step [400/600], D_loss: 0.5077, G_loss: 2.1302, D(x): 0.80, D(G(z)): 0.16\n",
            "Epoch [68/200], Step [600/600], D_loss: 0.9495, G_loss: 1.8792, D(x): 0.85, D(G(z)): 0.39\n",
            "Epoch [69/200], Step [200/600], D_loss: 0.5022, G_loss: 2.2314, D(x): 0.82, D(G(z)): 0.19\n",
            "Epoch [69/200], Step [400/600], D_loss: 0.6970, G_loss: 2.7641, D(x): 0.80, D(G(z)): 0.23\n",
            "Epoch [69/200], Step [600/600], D_loss: 0.7394, G_loss: 1.9986, D(x): 0.70, D(G(z)): 0.16\n",
            "Epoch [70/200], Step [200/600], D_loss: 0.7113, G_loss: 2.4824, D(x): 0.76, D(G(z)): 0.20\n",
            "Epoch [70/200], Step [400/600], D_loss: 0.5745, G_loss: 2.2514, D(x): 0.84, D(G(z)): 0.24\n",
            "Epoch [70/200], Step [600/600], D_loss: 0.7949, G_loss: 2.4000, D(x): 0.74, D(G(z)): 0.22\n",
            "Epoch [71/200], Step [200/600], D_loss: 0.6226, G_loss: 2.2379, D(x): 0.81, D(G(z)): 0.23\n",
            "Epoch [71/200], Step [400/600], D_loss: 0.6320, G_loss: 2.1135, D(x): 0.77, D(G(z)): 0.18\n",
            "Epoch [71/200], Step [600/600], D_loss: 0.7745, G_loss: 2.2665, D(x): 0.73, D(G(z)): 0.20\n",
            "Epoch [72/200], Step [200/600], D_loss: 0.5649, G_loss: 1.9878, D(x): 0.80, D(G(z)): 0.18\n",
            "Epoch [72/200], Step [400/600], D_loss: 0.9117, G_loss: 2.1816, D(x): 0.75, D(G(z)): 0.26\n",
            "Epoch [72/200], Step [600/600], D_loss: 0.5509, G_loss: 2.6779, D(x): 0.81, D(G(z)): 0.20\n",
            "Epoch [73/200], Step [200/600], D_loss: 0.6027, G_loss: 2.2929, D(x): 0.85, D(G(z)): 0.26\n",
            "Epoch [73/200], Step [400/600], D_loss: 0.6451, G_loss: 2.4233, D(x): 0.83, D(G(z)): 0.23\n",
            "Epoch [73/200], Step [600/600], D_loss: 0.7692, G_loss: 2.2038, D(x): 0.78, D(G(z)): 0.24\n",
            "Epoch [74/200], Step [200/600], D_loss: 0.5410, G_loss: 3.0075, D(x): 0.83, D(G(z)): 0.17\n",
            "Epoch [74/200], Step [400/600], D_loss: 0.6539, G_loss: 2.1945, D(x): 0.78, D(G(z)): 0.22\n",
            "Epoch [74/200], Step [600/600], D_loss: 0.4846, G_loss: 2.3081, D(x): 0.82, D(G(z)): 0.16\n",
            "Epoch [75/200], Step [200/600], D_loss: 0.5922, G_loss: 2.6330, D(x): 0.77, D(G(z)): 0.18\n",
            "Epoch [75/200], Step [400/600], D_loss: 0.6154, G_loss: 2.4109, D(x): 0.85, D(G(z)): 0.23\n",
            "Epoch [75/200], Step [600/600], D_loss: 0.6005, G_loss: 2.2118, D(x): 0.78, D(G(z)): 0.15\n",
            "Epoch [76/200], Step [200/600], D_loss: 0.7013, G_loss: 2.3435, D(x): 0.83, D(G(z)): 0.29\n",
            "Epoch [76/200], Step [400/600], D_loss: 0.8963, G_loss: 2.2791, D(x): 0.77, D(G(z)): 0.33\n",
            "Epoch [76/200], Step [600/600], D_loss: 0.5944, G_loss: 2.0893, D(x): 0.84, D(G(z)): 0.24\n",
            "Epoch [77/200], Step [200/600], D_loss: 0.7978, G_loss: 2.8006, D(x): 0.68, D(G(z)): 0.12\n",
            "Epoch [77/200], Step [400/600], D_loss: 0.5817, G_loss: 2.5459, D(x): 0.87, D(G(z)): 0.28\n",
            "Epoch [77/200], Step [600/600], D_loss: 0.9431, G_loss: 2.0624, D(x): 0.79, D(G(z)): 0.37\n",
            "Epoch [78/200], Step [200/600], D_loss: 0.7996, G_loss: 2.1353, D(x): 0.84, D(G(z)): 0.33\n",
            "Epoch [78/200], Step [400/600], D_loss: 0.6496, G_loss: 2.5716, D(x): 0.76, D(G(z)): 0.16\n",
            "Epoch [78/200], Step [600/600], D_loss: 0.5050, G_loss: 2.5264, D(x): 0.85, D(G(z)): 0.20\n",
            "Epoch [79/200], Step [200/600], D_loss: 0.5733, G_loss: 2.4958, D(x): 0.84, D(G(z)): 0.24\n",
            "Epoch [79/200], Step [400/600], D_loss: 0.6817, G_loss: 2.0985, D(x): 0.84, D(G(z)): 0.27\n",
            "Epoch [79/200], Step [600/600], D_loss: 0.8321, G_loss: 2.0142, D(x): 0.75, D(G(z)): 0.27\n",
            "Epoch [80/200], Step [200/600], D_loss: 0.7593, G_loss: 1.9907, D(x): 0.79, D(G(z)): 0.29\n",
            "Epoch [80/200], Step [400/600], D_loss: 0.6557, G_loss: 2.8520, D(x): 0.78, D(G(z)): 0.22\n",
            "Epoch [80/200], Step [600/600], D_loss: 0.6673, G_loss: 2.5222, D(x): 0.84, D(G(z)): 0.23\n",
            "Epoch [81/200], Step [200/600], D_loss: 0.7709, G_loss: 2.5718, D(x): 0.81, D(G(z)): 0.29\n",
            "Epoch [81/200], Step [400/600], D_loss: 0.5803, G_loss: 2.7289, D(x): 0.80, D(G(z)): 0.16\n",
            "Epoch [81/200], Step [600/600], D_loss: 0.5509, G_loss: 2.4240, D(x): 0.81, D(G(z)): 0.20\n",
            "Epoch [82/200], Step [200/600], D_loss: 0.8070, G_loss: 1.7676, D(x): 0.83, D(G(z)): 0.33\n",
            "Epoch [82/200], Step [400/600], D_loss: 1.0353, G_loss: 1.4464, D(x): 0.70, D(G(z)): 0.27\n",
            "Epoch [82/200], Step [600/600], D_loss: 1.0841, G_loss: 2.3053, D(x): 0.70, D(G(z)): 0.28\n",
            "Epoch [83/200], Step [200/600], D_loss: 0.5598, G_loss: 2.0642, D(x): 0.81, D(G(z)): 0.20\n",
            "Epoch [83/200], Step [400/600], D_loss: 0.5304, G_loss: 2.8595, D(x): 0.78, D(G(z)): 0.13\n",
            "Epoch [83/200], Step [600/600], D_loss: 0.8043, G_loss: 1.8559, D(x): 0.72, D(G(z)): 0.24\n",
            "Epoch [84/200], Step [200/600], D_loss: 0.8251, G_loss: 2.1016, D(x): 0.67, D(G(z)): 0.18\n",
            "Epoch [84/200], Step [400/600], D_loss: 0.8235, G_loss: 2.0587, D(x): 0.70, D(G(z)): 0.17\n",
            "Epoch [84/200], Step [600/600], D_loss: 0.8342, G_loss: 1.5572, D(x): 0.69, D(G(z)): 0.23\n",
            "Epoch [85/200], Step [200/600], D_loss: 0.6390, G_loss: 1.8021, D(x): 0.86, D(G(z)): 0.28\n",
            "Epoch [85/200], Step [400/600], D_loss: 0.6995, G_loss: 2.3247, D(x): 0.81, D(G(z)): 0.29\n",
            "Epoch [85/200], Step [600/600], D_loss: 0.7722, G_loss: 2.1349, D(x): 0.76, D(G(z)): 0.27\n",
            "Epoch [86/200], Step [200/600], D_loss: 0.7702, G_loss: 2.1688, D(x): 0.73, D(G(z)): 0.21\n",
            "Epoch [86/200], Step [400/600], D_loss: 0.9150, G_loss: 1.7477, D(x): 0.75, D(G(z)): 0.29\n",
            "Epoch [86/200], Step [600/600], D_loss: 0.8098, G_loss: 2.2759, D(x): 0.71, D(G(z)): 0.20\n",
            "Epoch [87/200], Step [200/600], D_loss: 0.7111, G_loss: 2.1585, D(x): 0.79, D(G(z)): 0.25\n",
            "Epoch [87/200], Step [400/600], D_loss: 0.7313, G_loss: 2.0925, D(x): 0.74, D(G(z)): 0.18\n",
            "Epoch [87/200], Step [600/600], D_loss: 0.7087, G_loss: 2.2369, D(x): 0.81, D(G(z)): 0.29\n",
            "Epoch [88/200], Step [200/600], D_loss: 0.7676, G_loss: 1.4085, D(x): 0.79, D(G(z)): 0.29\n",
            "Epoch [88/200], Step [400/600], D_loss: 0.6913, G_loss: 2.1067, D(x): 0.77, D(G(z)): 0.20\n",
            "Epoch [88/200], Step [600/600], D_loss: 0.7033, G_loss: 1.5884, D(x): 0.79, D(G(z)): 0.28\n",
            "Epoch [89/200], Step [200/600], D_loss: 0.7091, G_loss: 1.9426, D(x): 0.75, D(G(z)): 0.21\n",
            "Epoch [89/200], Step [400/600], D_loss: 0.8482, G_loss: 1.6104, D(x): 0.82, D(G(z)): 0.35\n",
            "Epoch [89/200], Step [600/600], D_loss: 0.6145, G_loss: 2.6446, D(x): 0.78, D(G(z)): 0.19\n",
            "Epoch [90/200], Step [200/600], D_loss: 0.9015, G_loss: 1.8219, D(x): 0.72, D(G(z)): 0.25\n",
            "Epoch [90/200], Step [400/600], D_loss: 0.8101, G_loss: 2.3267, D(x): 0.76, D(G(z)): 0.29\n",
            "Epoch [90/200], Step [600/600], D_loss: 0.4829, G_loss: 2.5713, D(x): 0.88, D(G(z)): 0.24\n",
            "Epoch [91/200], Step [200/600], D_loss: 0.9063, G_loss: 1.6059, D(x): 0.68, D(G(z)): 0.21\n",
            "Epoch [91/200], Step [400/600], D_loss: 0.6714, G_loss: 2.2403, D(x): 0.78, D(G(z)): 0.20\n",
            "Epoch [91/200], Step [600/600], D_loss: 0.6341, G_loss: 2.4213, D(x): 0.74, D(G(z)): 0.15\n",
            "Epoch [92/200], Step [200/600], D_loss: 0.6271, G_loss: 2.4400, D(x): 0.81, D(G(z)): 0.21\n",
            "Epoch [92/200], Step [400/600], D_loss: 0.7601, G_loss: 2.4056, D(x): 0.75, D(G(z)): 0.21\n",
            "Epoch [92/200], Step [600/600], D_loss: 0.7827, G_loss: 1.9152, D(x): 0.79, D(G(z)): 0.29\n",
            "Epoch [93/200], Step [200/600], D_loss: 0.8147, G_loss: 1.8290, D(x): 0.74, D(G(z)): 0.25\n",
            "Epoch [93/200], Step [400/600], D_loss: 0.8744, G_loss: 1.3984, D(x): 0.77, D(G(z)): 0.33\n",
            "Epoch [93/200], Step [600/600], D_loss: 0.9851, G_loss: 1.8243, D(x): 0.72, D(G(z)): 0.33\n",
            "Epoch [94/200], Step [200/600], D_loss: 0.9512, G_loss: 1.8669, D(x): 0.67, D(G(z)): 0.23\n",
            "Epoch [94/200], Step [400/600], D_loss: 0.9051, G_loss: 1.9590, D(x): 0.79, D(G(z)): 0.34\n",
            "Epoch [94/200], Step [600/600], D_loss: 0.5063, G_loss: 2.5156, D(x): 0.80, D(G(z)): 0.13\n",
            "Epoch [95/200], Step [200/600], D_loss: 1.0252, G_loss: 1.6878, D(x): 0.68, D(G(z)): 0.23\n",
            "Epoch [95/200], Step [400/600], D_loss: 0.6754, G_loss: 2.6418, D(x): 0.78, D(G(z)): 0.23\n",
            "Epoch [95/200], Step [600/600], D_loss: 0.7151, G_loss: 2.1215, D(x): 0.76, D(G(z)): 0.24\n",
            "Epoch [96/200], Step [200/600], D_loss: 0.7316, G_loss: 2.4951, D(x): 0.72, D(G(z)): 0.18\n",
            "Epoch [96/200], Step [400/600], D_loss: 0.6101, G_loss: 1.8349, D(x): 0.76, D(G(z)): 0.19\n",
            "Epoch [96/200], Step [600/600], D_loss: 0.6178, G_loss: 2.3274, D(x): 0.85, D(G(z)): 0.26\n",
            "Epoch [97/200], Step [200/600], D_loss: 0.8620, G_loss: 2.0363, D(x): 0.72, D(G(z)): 0.28\n",
            "Epoch [97/200], Step [400/600], D_loss: 0.7050, G_loss: 2.3390, D(x): 0.74, D(G(z)): 0.21\n",
            "Epoch [97/200], Step [600/600], D_loss: 0.8016, G_loss: 1.7437, D(x): 0.80, D(G(z)): 0.32\n",
            "Epoch [98/200], Step [200/600], D_loss: 0.6853, G_loss: 2.0100, D(x): 0.78, D(G(z)): 0.24\n",
            "Epoch [98/200], Step [400/600], D_loss: 0.9062, G_loss: 1.6422, D(x): 0.77, D(G(z)): 0.32\n",
            "Epoch [98/200], Step [600/600], D_loss: 0.7899, G_loss: 1.9053, D(x): 0.84, D(G(z)): 0.36\n",
            "Epoch [99/200], Step [200/600], D_loss: 0.9871, G_loss: 1.9116, D(x): 0.71, D(G(z)): 0.29\n",
            "Epoch [99/200], Step [400/600], D_loss: 0.6656, G_loss: 2.1514, D(x): 0.83, D(G(z)): 0.28\n",
            "Epoch [99/200], Step [600/600], D_loss: 0.7151, G_loss: 1.9758, D(x): 0.73, D(G(z)): 0.18\n",
            "Epoch [100/200], Step [200/600], D_loss: 0.7780, G_loss: 1.8224, D(x): 0.82, D(G(z)): 0.32\n",
            "Epoch [100/200], Step [400/600], D_loss: 0.7536, G_loss: 1.8706, D(x): 0.80, D(G(z)): 0.33\n",
            "Epoch [100/200], Step [600/600], D_loss: 0.6780, G_loss: 2.3554, D(x): 0.69, D(G(z)): 0.14\n",
            "Epoch [101/200], Step [200/600], D_loss: 0.8409, G_loss: 2.3292, D(x): 0.71, D(G(z)): 0.24\n",
            "Epoch [101/200], Step [400/600], D_loss: 0.5509, G_loss: 2.2607, D(x): 0.84, D(G(z)): 0.24\n",
            "Epoch [101/200], Step [600/600], D_loss: 0.7051, G_loss: 1.7663, D(x): 0.79, D(G(z)): 0.28\n",
            "Epoch [102/200], Step [200/600], D_loss: 0.9817, G_loss: 1.6354, D(x): 0.82, D(G(z)): 0.41\n",
            "Epoch [102/200], Step [400/600], D_loss: 0.7773, G_loss: 2.3320, D(x): 0.72, D(G(z)): 0.24\n",
            "Epoch [102/200], Step [600/600], D_loss: 0.7470, G_loss: 1.7827, D(x): 0.80, D(G(z)): 0.31\n",
            "Epoch [103/200], Step [200/600], D_loss: 0.8158, G_loss: 2.4486, D(x): 0.73, D(G(z)): 0.22\n",
            "Epoch [103/200], Step [400/600], D_loss: 1.0280, G_loss: 1.5637, D(x): 0.70, D(G(z)): 0.30\n",
            "Epoch [103/200], Step [600/600], D_loss: 0.7691, G_loss: 2.7691, D(x): 0.71, D(G(z)): 0.18\n",
            "Epoch [104/200], Step [200/600], D_loss: 0.7790, G_loss: 1.9675, D(x): 0.76, D(G(z)): 0.28\n",
            "Epoch [104/200], Step [400/600], D_loss: 0.7563, G_loss: 1.7850, D(x): 0.78, D(G(z)): 0.29\n",
            "Epoch [104/200], Step [600/600], D_loss: 1.2226, G_loss: 1.6900, D(x): 0.64, D(G(z)): 0.34\n",
            "Epoch [105/200], Step [200/600], D_loss: 0.8818, G_loss: 2.1236, D(x): 0.71, D(G(z)): 0.27\n",
            "Epoch [105/200], Step [400/600], D_loss: 0.9394, G_loss: 1.6572, D(x): 0.76, D(G(z)): 0.37\n",
            "Epoch [105/200], Step [600/600], D_loss: 0.6269, G_loss: 1.7657, D(x): 0.83, D(G(z)): 0.27\n",
            "Epoch [106/200], Step [200/600], D_loss: 0.8445, G_loss: 1.3915, D(x): 0.76, D(G(z)): 0.32\n",
            "Epoch [106/200], Step [400/600], D_loss: 0.8945, G_loss: 1.7707, D(x): 0.75, D(G(z)): 0.28\n",
            "Epoch [106/200], Step [600/600], D_loss: 0.8312, G_loss: 1.5078, D(x): 0.73, D(G(z)): 0.26\n",
            "Epoch [107/200], Step [200/600], D_loss: 1.0081, G_loss: 1.8237, D(x): 0.71, D(G(z)): 0.29\n",
            "Epoch [107/200], Step [400/600], D_loss: 0.8649, G_loss: 1.6972, D(x): 0.77, D(G(z)): 0.35\n",
            "Epoch [107/200], Step [600/600], D_loss: 1.0255, G_loss: 1.7279, D(x): 0.61, D(G(z)): 0.24\n",
            "Epoch [108/200], Step [200/600], D_loss: 0.8205, G_loss: 2.1058, D(x): 0.72, D(G(z)): 0.24\n",
            "Epoch [108/200], Step [400/600], D_loss: 0.9156, G_loss: 1.4747, D(x): 0.78, D(G(z)): 0.36\n",
            "Epoch [108/200], Step [600/600], D_loss: 0.9960, G_loss: 1.7220, D(x): 0.79, D(G(z)): 0.38\n",
            "Epoch [109/200], Step [200/600], D_loss: 0.8881, G_loss: 1.4927, D(x): 0.72, D(G(z)): 0.30\n",
            "Epoch [109/200], Step [400/600], D_loss: 1.0004, G_loss: 1.4754, D(x): 0.75, D(G(z)): 0.40\n",
            "Epoch [109/200], Step [600/600], D_loss: 0.7181, G_loss: 2.7473, D(x): 0.78, D(G(z)): 0.26\n",
            "Epoch [110/200], Step [200/600], D_loss: 0.7127, G_loss: 1.8010, D(x): 0.78, D(G(z)): 0.28\n",
            "Epoch [110/200], Step [400/600], D_loss: 1.2152, G_loss: 1.8033, D(x): 0.66, D(G(z)): 0.35\n",
            "Epoch [110/200], Step [600/600], D_loss: 0.5784, G_loss: 1.6625, D(x): 0.82, D(G(z)): 0.24\n",
            "Epoch [111/200], Step [200/600], D_loss: 0.6953, G_loss: 1.5839, D(x): 0.80, D(G(z)): 0.28\n",
            "Epoch [111/200], Step [400/600], D_loss: 0.8539, G_loss: 2.0673, D(x): 0.74, D(G(z)): 0.26\n",
            "Epoch [111/200], Step [600/600], D_loss: 0.8870, G_loss: 1.7549, D(x): 0.75, D(G(z)): 0.32\n",
            "Epoch [112/200], Step [200/600], D_loss: 0.8582, G_loss: 2.0661, D(x): 0.68, D(G(z)): 0.18\n",
            "Epoch [112/200], Step [400/600], D_loss: 0.7923, G_loss: 1.6099, D(x): 0.69, D(G(z)): 0.20\n",
            "Epoch [112/200], Step [600/600], D_loss: 0.8104, G_loss: 2.0006, D(x): 0.72, D(G(z)): 0.24\n",
            "Epoch [113/200], Step [200/600], D_loss: 1.1623, G_loss: 1.5943, D(x): 0.61, D(G(z)): 0.26\n",
            "Epoch [113/200], Step [400/600], D_loss: 0.6252, G_loss: 2.2321, D(x): 0.75, D(G(z)): 0.19\n",
            "Epoch [113/200], Step [600/600], D_loss: 0.7870, G_loss: 2.3087, D(x): 0.74, D(G(z)): 0.27\n",
            "Epoch [114/200], Step [200/600], D_loss: 0.5871, G_loss: 2.1258, D(x): 0.78, D(G(z)): 0.21\n",
            "Epoch [114/200], Step [400/600], D_loss: 0.7192, G_loss: 1.3353, D(x): 0.82, D(G(z)): 0.32\n",
            "Epoch [114/200], Step [600/600], D_loss: 0.7772, G_loss: 1.8064, D(x): 0.82, D(G(z)): 0.33\n",
            "Epoch [115/200], Step [200/600], D_loss: 0.8565, G_loss: 1.7129, D(x): 0.75, D(G(z)): 0.25\n",
            "Epoch [115/200], Step [400/600], D_loss: 0.8427, G_loss: 1.8541, D(x): 0.65, D(G(z)): 0.18\n",
            "Epoch [115/200], Step [600/600], D_loss: 0.7754, G_loss: 1.8506, D(x): 0.77, D(G(z)): 0.30\n",
            "Epoch [116/200], Step [200/600], D_loss: 0.8432, G_loss: 1.8347, D(x): 0.69, D(G(z)): 0.24\n",
            "Epoch [116/200], Step [400/600], D_loss: 0.7436, G_loss: 2.3963, D(x): 0.77, D(G(z)): 0.26\n",
            "Epoch [116/200], Step [600/600], D_loss: 0.7190, G_loss: 1.8218, D(x): 0.75, D(G(z)): 0.21\n",
            "Epoch [117/200], Step [200/600], D_loss: 0.7807, G_loss: 1.6628, D(x): 0.77, D(G(z)): 0.28\n",
            "Epoch [117/200], Step [400/600], D_loss: 0.8209, G_loss: 2.0364, D(x): 0.73, D(G(z)): 0.30\n",
            "Epoch [117/200], Step [600/600], D_loss: 1.0127, G_loss: 1.9096, D(x): 0.72, D(G(z)): 0.33\n",
            "Epoch [118/200], Step [200/600], D_loss: 0.7947, G_loss: 1.8770, D(x): 0.71, D(G(z)): 0.23\n",
            "Epoch [118/200], Step [400/600], D_loss: 0.8566, G_loss: 1.6622, D(x): 0.71, D(G(z)): 0.29\n",
            "Epoch [118/200], Step [600/600], D_loss: 1.0086, G_loss: 1.4496, D(x): 0.72, D(G(z)): 0.33\n",
            "Epoch [119/200], Step [200/600], D_loss: 0.8222, G_loss: 1.5822, D(x): 0.69, D(G(z)): 0.24\n",
            "Epoch [119/200], Step [400/600], D_loss: 0.7437, G_loss: 1.6693, D(x): 0.77, D(G(z)): 0.29\n",
            "Epoch [119/200], Step [600/600], D_loss: 0.8445, G_loss: 1.7398, D(x): 0.75, D(G(z)): 0.32\n",
            "Epoch [120/200], Step [200/600], D_loss: 0.7553, G_loss: 1.7277, D(x): 0.76, D(G(z)): 0.22\n",
            "Epoch [120/200], Step [400/600], D_loss: 0.8010, G_loss: 1.9913, D(x): 0.73, D(G(z)): 0.25\n",
            "Epoch [120/200], Step [600/600], D_loss: 1.0746, G_loss: 1.7447, D(x): 0.65, D(G(z)): 0.32\n",
            "Epoch [121/200], Step [200/600], D_loss: 0.8372, G_loss: 2.1586, D(x): 0.65, D(G(z)): 0.18\n",
            "Epoch [121/200], Step [400/600], D_loss: 0.9136, G_loss: 1.6306, D(x): 0.73, D(G(z)): 0.32\n",
            "Epoch [121/200], Step [600/600], D_loss: 0.8592, G_loss: 2.0354, D(x): 0.77, D(G(z)): 0.31\n",
            "Epoch [122/200], Step [200/600], D_loss: 1.0511, G_loss: 1.8445, D(x): 0.64, D(G(z)): 0.29\n",
            "Epoch [122/200], Step [400/600], D_loss: 0.7850, G_loss: 2.1082, D(x): 0.78, D(G(z)): 0.31\n",
            "Epoch [122/200], Step [600/600], D_loss: 0.8073, G_loss: 1.7697, D(x): 0.76, D(G(z)): 0.29\n",
            "Epoch [123/200], Step [200/600], D_loss: 1.0651, G_loss: 1.4361, D(x): 0.62, D(G(z)): 0.30\n",
            "Epoch [123/200], Step [400/600], D_loss: 0.9297, G_loss: 2.0571, D(x): 0.70, D(G(z)): 0.28\n",
            "Epoch [123/200], Step [600/600], D_loss: 0.7298, G_loss: 1.5027, D(x): 0.81, D(G(z)): 0.28\n",
            "Epoch [124/200], Step [200/600], D_loss: 0.8108, G_loss: 2.4385, D(x): 0.67, D(G(z)): 0.20\n",
            "Epoch [124/200], Step [400/600], D_loss: 0.6271, G_loss: 1.6681, D(x): 0.77, D(G(z)): 0.23\n",
            "Epoch [124/200], Step [600/600], D_loss: 0.9839, G_loss: 1.7637, D(x): 0.64, D(G(z)): 0.27\n",
            "Epoch [125/200], Step [200/600], D_loss: 0.6897, G_loss: 1.7239, D(x): 0.77, D(G(z)): 0.24\n",
            "Epoch [125/200], Step [400/600], D_loss: 0.9511, G_loss: 1.6382, D(x): 0.67, D(G(z)): 0.27\n",
            "Epoch [125/200], Step [600/600], D_loss: 0.7981, G_loss: 1.4949, D(x): 0.73, D(G(z)): 0.28\n",
            "Epoch [126/200], Step [200/600], D_loss: 0.8328, G_loss: 1.8413, D(x): 0.73, D(G(z)): 0.29\n",
            "Epoch [126/200], Step [400/600], D_loss: 0.9427, G_loss: 1.3427, D(x): 0.71, D(G(z)): 0.33\n",
            "Epoch [126/200], Step [600/600], D_loss: 0.8348, G_loss: 1.6627, D(x): 0.75, D(G(z)): 0.32\n",
            "Epoch [127/200], Step [200/600], D_loss: 0.7442, G_loss: 2.0841, D(x): 0.74, D(G(z)): 0.25\n",
            "Epoch [127/200], Step [400/600], D_loss: 0.9312, G_loss: 1.8069, D(x): 0.66, D(G(z)): 0.24\n",
            "Epoch [127/200], Step [600/600], D_loss: 0.9970, G_loss: 1.4824, D(x): 0.72, D(G(z)): 0.36\n",
            "Epoch [128/200], Step [200/600], D_loss: 0.7361, G_loss: 1.9020, D(x): 0.83, D(G(z)): 0.34\n",
            "Epoch [128/200], Step [400/600], D_loss: 0.6737, G_loss: 1.6760, D(x): 0.78, D(G(z)): 0.24\n",
            "Epoch [128/200], Step [600/600], D_loss: 0.8618, G_loss: 1.3002, D(x): 0.71, D(G(z)): 0.27\n",
            "Epoch [129/200], Step [200/600], D_loss: 0.6894, G_loss: 1.8280, D(x): 0.74, D(G(z)): 0.23\n",
            "Epoch [129/200], Step [400/600], D_loss: 1.0865, G_loss: 1.3893, D(x): 0.76, D(G(z)): 0.41\n",
            "Epoch [129/200], Step [600/600], D_loss: 1.0058, G_loss: 1.1875, D(x): 0.70, D(G(z)): 0.34\n",
            "Epoch [130/200], Step [200/600], D_loss: 0.9375, G_loss: 1.3476, D(x): 0.73, D(G(z)): 0.35\n",
            "Epoch [130/200], Step [400/600], D_loss: 0.7792, G_loss: 1.8222, D(x): 0.73, D(G(z)): 0.26\n",
            "Epoch [130/200], Step [600/600], D_loss: 0.9567, G_loss: 2.1725, D(x): 0.66, D(G(z)): 0.28\n",
            "Epoch [131/200], Step [200/600], D_loss: 0.8090, G_loss: 1.0978, D(x): 0.74, D(G(z)): 0.29\n",
            "Epoch [131/200], Step [400/600], D_loss: 0.8495, G_loss: 1.6124, D(x): 0.72, D(G(z)): 0.32\n",
            "Epoch [131/200], Step [600/600], D_loss: 0.9823, G_loss: 1.4098, D(x): 0.64, D(G(z)): 0.25\n",
            "Epoch [132/200], Step [200/600], D_loss: 0.8737, G_loss: 1.5871, D(x): 0.69, D(G(z)): 0.26\n",
            "Epoch [132/200], Step [400/600], D_loss: 0.7418, G_loss: 1.7435, D(x): 0.68, D(G(z)): 0.18\n",
            "Epoch [132/200], Step [600/600], D_loss: 0.8840, G_loss: 2.1161, D(x): 0.74, D(G(z)): 0.32\n",
            "Epoch [133/200], Step [200/600], D_loss: 0.9142, G_loss: 1.5538, D(x): 0.66, D(G(z)): 0.23\n",
            "Epoch [133/200], Step [400/600], D_loss: 1.0298, G_loss: 1.2966, D(x): 0.79, D(G(z)): 0.42\n",
            "Epoch [133/200], Step [600/600], D_loss: 0.8146, G_loss: 1.5464, D(x): 0.71, D(G(z)): 0.27\n",
            "Epoch [134/200], Step [200/600], D_loss: 1.1080, G_loss: 1.5768, D(x): 0.61, D(G(z)): 0.26\n",
            "Epoch [134/200], Step [400/600], D_loss: 0.9639, G_loss: 1.8210, D(x): 0.70, D(G(z)): 0.31\n",
            "Epoch [134/200], Step [600/600], D_loss: 0.7357, G_loss: 1.6592, D(x): 0.78, D(G(z)): 0.28\n",
            "Epoch [135/200], Step [200/600], D_loss: 1.0054, G_loss: 1.5621, D(x): 0.69, D(G(z)): 0.34\n",
            "Epoch [135/200], Step [400/600], D_loss: 0.8897, G_loss: 1.9473, D(x): 0.72, D(G(z)): 0.30\n",
            "Epoch [135/200], Step [600/600], D_loss: 0.7249, G_loss: 2.0613, D(x): 0.75, D(G(z)): 0.26\n",
            "Epoch [136/200], Step [200/600], D_loss: 1.0929, G_loss: 1.5388, D(x): 0.63, D(G(z)): 0.30\n",
            "Epoch [136/200], Step [400/600], D_loss: 0.9079, G_loss: 1.8799, D(x): 0.68, D(G(z)): 0.25\n",
            "Epoch [136/200], Step [600/600], D_loss: 0.9652, G_loss: 1.2161, D(x): 0.71, D(G(z)): 0.36\n",
            "Epoch [137/200], Step [200/600], D_loss: 0.8295, G_loss: 1.6282, D(x): 0.75, D(G(z)): 0.32\n",
            "Epoch [137/200], Step [400/600], D_loss: 0.9485, G_loss: 1.4684, D(x): 0.69, D(G(z)): 0.31\n",
            "Epoch [137/200], Step [600/600], D_loss: 0.9042, G_loss: 1.7302, D(x): 0.69, D(G(z)): 0.24\n",
            "Epoch [138/200], Step [200/600], D_loss: 0.9024, G_loss: 1.4771, D(x): 0.66, D(G(z)): 0.23\n",
            "Epoch [138/200], Step [400/600], D_loss: 0.9287, G_loss: 2.0271, D(x): 0.74, D(G(z)): 0.34\n",
            "Epoch [138/200], Step [600/600], D_loss: 0.8644, G_loss: 1.7706, D(x): 0.73, D(G(z)): 0.30\n",
            "Epoch [139/200], Step [200/600], D_loss: 0.9813, G_loss: 1.5651, D(x): 0.69, D(G(z)): 0.30\n",
            "Epoch [139/200], Step [400/600], D_loss: 1.0145, G_loss: 2.0799, D(x): 0.61, D(G(z)): 0.20\n",
            "Epoch [139/200], Step [600/600], D_loss: 0.7366, G_loss: 1.6197, D(x): 0.75, D(G(z)): 0.26\n",
            "Epoch [140/200], Step [200/600], D_loss: 0.7646, G_loss: 1.7692, D(x): 0.75, D(G(z)): 0.29\n",
            "Epoch [140/200], Step [400/600], D_loss: 0.9544, G_loss: 1.6748, D(x): 0.68, D(G(z)): 0.31\n",
            "Epoch [140/200], Step [600/600], D_loss: 0.8588, G_loss: 1.6535, D(x): 0.74, D(G(z)): 0.30\n",
            "Epoch [141/200], Step [200/600], D_loss: 0.6040, G_loss: 2.0307, D(x): 0.79, D(G(z)): 0.23\n",
            "Epoch [141/200], Step [400/600], D_loss: 0.8778, G_loss: 1.5164, D(x): 0.71, D(G(z)): 0.28\n",
            "Epoch [141/200], Step [600/600], D_loss: 0.7826, G_loss: 1.3670, D(x): 0.78, D(G(z)): 0.31\n",
            "Epoch [142/200], Step [200/600], D_loss: 0.7851, G_loss: 1.4336, D(x): 0.72, D(G(z)): 0.25\n",
            "Epoch [142/200], Step [400/600], D_loss: 0.7672, G_loss: 1.8713, D(x): 0.71, D(G(z)): 0.22\n",
            "Epoch [142/200], Step [600/600], D_loss: 0.8578, G_loss: 1.8071, D(x): 0.64, D(G(z)): 0.20\n",
            "Epoch [143/200], Step [200/600], D_loss: 0.9347, G_loss: 1.8346, D(x): 0.65, D(G(z)): 0.25\n",
            "Epoch [143/200], Step [400/600], D_loss: 0.7472, G_loss: 1.3823, D(x): 0.76, D(G(z)): 0.29\n",
            "Epoch [143/200], Step [600/600], D_loss: 0.8262, G_loss: 1.3084, D(x): 0.75, D(G(z)): 0.30\n",
            "Epoch [144/200], Step [200/600], D_loss: 0.8841, G_loss: 1.3396, D(x): 0.73, D(G(z)): 0.32\n",
            "Epoch [144/200], Step [400/600], D_loss: 0.7331, G_loss: 2.0665, D(x): 0.76, D(G(z)): 0.29\n",
            "Epoch [144/200], Step [600/600], D_loss: 0.8541, G_loss: 1.9115, D(x): 0.70, D(G(z)): 0.24\n",
            "Epoch [145/200], Step [200/600], D_loss: 0.8644, G_loss: 1.7976, D(x): 0.74, D(G(z)): 0.29\n",
            "Epoch [145/200], Step [400/600], D_loss: 0.8032, G_loss: 1.5377, D(x): 0.77, D(G(z)): 0.33\n",
            "Epoch [145/200], Step [600/600], D_loss: 0.8328, G_loss: 1.6408, D(x): 0.72, D(G(z)): 0.31\n",
            "Epoch [146/200], Step [200/600], D_loss: 0.9388, G_loss: 1.6332, D(x): 0.66, D(G(z)): 0.26\n",
            "Epoch [146/200], Step [400/600], D_loss: 0.7775, G_loss: 1.3793, D(x): 0.73, D(G(z)): 0.28\n",
            "Epoch [146/200], Step [600/600], D_loss: 0.8933, G_loss: 1.5167, D(x): 0.70, D(G(z)): 0.29\n",
            "Epoch [147/200], Step [200/600], D_loss: 0.8853, G_loss: 2.1431, D(x): 0.75, D(G(z)): 0.32\n",
            "Epoch [147/200], Step [400/600], D_loss: 0.9632, G_loss: 1.5048, D(x): 0.76, D(G(z)): 0.37\n",
            "Epoch [147/200], Step [600/600], D_loss: 0.9883, G_loss: 1.7378, D(x): 0.69, D(G(z)): 0.31\n",
            "Epoch [148/200], Step [200/600], D_loss: 0.8125, G_loss: 1.7367, D(x): 0.68, D(G(z)): 0.23\n",
            "Epoch [148/200], Step [400/600], D_loss: 0.8965, G_loss: 1.7086, D(x): 0.66, D(G(z)): 0.27\n",
            "Epoch [148/200], Step [600/600], D_loss: 0.9791, G_loss: 1.6082, D(x): 0.66, D(G(z)): 0.28\n",
            "Epoch [149/200], Step [200/600], D_loss: 0.9969, G_loss: 1.6288, D(x): 0.72, D(G(z)): 0.33\n",
            "Epoch [149/200], Step [400/600], D_loss: 0.8142, G_loss: 1.7284, D(x): 0.78, D(G(z)): 0.31\n",
            "Epoch [149/200], Step [600/600], D_loss: 0.8077, G_loss: 1.5059, D(x): 0.73, D(G(z)): 0.30\n",
            "Epoch [150/200], Step [200/600], D_loss: 0.8990, G_loss: 1.2629, D(x): 0.78, D(G(z)): 0.37\n",
            "Epoch [150/200], Step [400/600], D_loss: 1.0627, G_loss: 1.6923, D(x): 0.68, D(G(z)): 0.33\n",
            "Epoch [150/200], Step [600/600], D_loss: 0.8644, G_loss: 1.5500, D(x): 0.71, D(G(z)): 0.26\n",
            "Epoch [151/200], Step [200/600], D_loss: 0.7763, G_loss: 1.5167, D(x): 0.71, D(G(z)): 0.23\n",
            "Epoch [151/200], Step [400/600], D_loss: 0.9107, G_loss: 1.9697, D(x): 0.74, D(G(z)): 0.31\n",
            "Epoch [151/200], Step [600/600], D_loss: 0.7690, G_loss: 1.6259, D(x): 0.78, D(G(z)): 0.30\n",
            "Epoch [152/200], Step [200/600], D_loss: 0.9015, G_loss: 1.8830, D(x): 0.65, D(G(z)): 0.23\n",
            "Epoch [152/200], Step [400/600], D_loss: 1.0581, G_loss: 1.3888, D(x): 0.66, D(G(z)): 0.34\n",
            "Epoch [152/200], Step [600/600], D_loss: 1.0608, G_loss: 1.4661, D(x): 0.75, D(G(z)): 0.41\n",
            "Epoch [153/200], Step [200/600], D_loss: 0.9395, G_loss: 1.4909, D(x): 0.70, D(G(z)): 0.32\n",
            "Epoch [153/200], Step [400/600], D_loss: 0.9386, G_loss: 2.0406, D(x): 0.65, D(G(z)): 0.23\n",
            "Epoch [153/200], Step [600/600], D_loss: 1.0120, G_loss: 1.2741, D(x): 0.68, D(G(z)): 0.31\n",
            "Epoch [154/200], Step [200/600], D_loss: 1.0834, G_loss: 1.7367, D(x): 0.64, D(G(z)): 0.30\n",
            "Epoch [154/200], Step [400/600], D_loss: 1.0153, G_loss: 1.7623, D(x): 0.68, D(G(z)): 0.31\n",
            "Epoch [154/200], Step [600/600], D_loss: 0.8829, G_loss: 1.1732, D(x): 0.71, D(G(z)): 0.29\n",
            "Epoch [155/200], Step [200/600], D_loss: 0.8892, G_loss: 1.7232, D(x): 0.72, D(G(z)): 0.30\n",
            "Epoch [155/200], Step [400/600], D_loss: 0.9284, G_loss: 2.0531, D(x): 0.70, D(G(z)): 0.28\n",
            "Epoch [155/200], Step [600/600], D_loss: 0.9516, G_loss: 1.6744, D(x): 0.68, D(G(z)): 0.31\n",
            "Epoch [156/200], Step [200/600], D_loss: 1.0304, G_loss: 1.9615, D(x): 0.69, D(G(z)): 0.31\n",
            "Epoch [156/200], Step [400/600], D_loss: 0.8443, G_loss: 1.4295, D(x): 0.76, D(G(z)): 0.32\n",
            "Epoch [156/200], Step [600/600], D_loss: 0.9309, G_loss: 1.6273, D(x): 0.67, D(G(z)): 0.28\n",
            "Epoch [157/200], Step [200/600], D_loss: 0.7535, G_loss: 1.9503, D(x): 0.74, D(G(z)): 0.26\n",
            "Epoch [157/200], Step [400/600], D_loss: 0.9600, G_loss: 1.5424, D(x): 0.65, D(G(z)): 0.26\n",
            "Epoch [157/200], Step [600/600], D_loss: 0.8357, G_loss: 1.4919, D(x): 0.72, D(G(z)): 0.28\n",
            "Epoch [158/200], Step [200/600], D_loss: 0.9983, G_loss: 1.7359, D(x): 0.67, D(G(z)): 0.34\n",
            "Epoch [158/200], Step [400/600], D_loss: 0.9457, G_loss: 1.7696, D(x): 0.68, D(G(z)): 0.29\n",
            "Epoch [158/200], Step [600/600], D_loss: 1.0505, G_loss: 1.7951, D(x): 0.59, D(G(z)): 0.24\n",
            "Epoch [159/200], Step [200/600], D_loss: 1.1203, G_loss: 2.2056, D(x): 0.58, D(G(z)): 0.22\n",
            "Epoch [159/200], Step [400/600], D_loss: 0.8787, G_loss: 1.7845, D(x): 0.70, D(G(z)): 0.30\n",
            "Epoch [159/200], Step [600/600], D_loss: 0.7961, G_loss: 1.3509, D(x): 0.71, D(G(z)): 0.24\n",
            "Epoch [160/200], Step [200/600], D_loss: 0.9816, G_loss: 1.8562, D(x): 0.62, D(G(z)): 0.23\n",
            "Epoch [160/200], Step [400/600], D_loss: 0.8393, G_loss: 2.0818, D(x): 0.78, D(G(z)): 0.35\n",
            "Epoch [160/200], Step [600/600], D_loss: 0.9127, G_loss: 1.5001, D(x): 0.66, D(G(z)): 0.27\n",
            "Epoch [161/200], Step [200/600], D_loss: 1.1359, G_loss: 1.3586, D(x): 0.66, D(G(z)): 0.38\n",
            "Epoch [161/200], Step [400/600], D_loss: 0.8374, G_loss: 1.7026, D(x): 0.69, D(G(z)): 0.27\n",
            "Epoch [161/200], Step [600/600], D_loss: 0.8544, G_loss: 1.4354, D(x): 0.72, D(G(z)): 0.30\n",
            "Epoch [162/200], Step [200/600], D_loss: 0.8777, G_loss: 1.6972, D(x): 0.75, D(G(z)): 0.34\n",
            "Epoch [162/200], Step [400/600], D_loss: 0.9488, G_loss: 1.9029, D(x): 0.68, D(G(z)): 0.28\n",
            "Epoch [162/200], Step [600/600], D_loss: 0.9840, G_loss: 1.3748, D(x): 0.74, D(G(z)): 0.38\n",
            "Epoch [163/200], Step [200/600], D_loss: 1.1523, G_loss: 1.3654, D(x): 0.66, D(G(z)): 0.38\n",
            "Epoch [163/200], Step [400/600], D_loss: 0.8721, G_loss: 1.5114, D(x): 0.63, D(G(z)): 0.18\n",
            "Epoch [163/200], Step [600/600], D_loss: 0.9302, G_loss: 1.4864, D(x): 0.67, D(G(z)): 0.31\n",
            "Epoch [164/200], Step [200/600], D_loss: 0.9054, G_loss: 1.4596, D(x): 0.64, D(G(z)): 0.24\n",
            "Epoch [164/200], Step [400/600], D_loss: 1.0032, G_loss: 1.4181, D(x): 0.74, D(G(z)): 0.39\n",
            "Epoch [164/200], Step [600/600], D_loss: 1.1217, G_loss: 1.8939, D(x): 0.60, D(G(z)): 0.25\n",
            "Epoch [165/200], Step [200/600], D_loss: 0.9252, G_loss: 1.6292, D(x): 0.71, D(G(z)): 0.31\n",
            "Epoch [165/200], Step [400/600], D_loss: 1.2753, G_loss: 1.4472, D(x): 0.71, D(G(z)): 0.48\n",
            "Epoch [165/200], Step [600/600], D_loss: 1.0872, G_loss: 1.4636, D(x): 0.80, D(G(z)): 0.47\n",
            "Epoch [166/200], Step [200/600], D_loss: 0.9358, G_loss: 1.8327, D(x): 0.66, D(G(z)): 0.25\n",
            "Epoch [166/200], Step [400/600], D_loss: 0.8614, G_loss: 1.5791, D(x): 0.71, D(G(z)): 0.31\n",
            "Epoch [166/200], Step [600/600], D_loss: 0.8778, G_loss: 1.3431, D(x): 0.80, D(G(z)): 0.34\n",
            "Epoch [167/200], Step [200/600], D_loss: 0.9819, G_loss: 1.4358, D(x): 0.62, D(G(z)): 0.24\n",
            "Epoch [167/200], Step [400/600], D_loss: 0.9488, G_loss: 1.7862, D(x): 0.66, D(G(z)): 0.29\n",
            "Epoch [167/200], Step [600/600], D_loss: 0.9687, G_loss: 1.8869, D(x): 0.66, D(G(z)): 0.29\n",
            "Epoch [168/200], Step [200/600], D_loss: 1.3183, G_loss: 1.2907, D(x): 0.65, D(G(z)): 0.44\n",
            "Epoch [168/200], Step [400/600], D_loss: 1.0373, G_loss: 1.7393, D(x): 0.63, D(G(z)): 0.26\n",
            "Epoch [168/200], Step [600/600], D_loss: 0.8010, G_loss: 1.6052, D(x): 0.72, D(G(z)): 0.26\n",
            "Epoch [169/200], Step [200/600], D_loss: 0.9807, G_loss: 1.6041, D(x): 0.75, D(G(z)): 0.38\n",
            "Epoch [169/200], Step [400/600], D_loss: 0.9074, G_loss: 1.3167, D(x): 0.69, D(G(z)): 0.31\n",
            "Epoch [169/200], Step [600/600], D_loss: 0.9447, G_loss: 1.7935, D(x): 0.68, D(G(z)): 0.30\n",
            "Epoch [170/200], Step [200/600], D_loss: 0.9065, G_loss: 1.3579, D(x): 0.66, D(G(z)): 0.26\n",
            "Epoch [170/200], Step [400/600], D_loss: 0.8473, G_loss: 1.4055, D(x): 0.74, D(G(z)): 0.29\n",
            "Epoch [170/200], Step [600/600], D_loss: 0.8198, G_loss: 1.8119, D(x): 0.78, D(G(z)): 0.34\n",
            "Epoch [171/200], Step [200/600], D_loss: 1.0624, G_loss: 1.3439, D(x): 0.68, D(G(z)): 0.35\n",
            "Epoch [171/200], Step [400/600], D_loss: 1.0474, G_loss: 1.7485, D(x): 0.62, D(G(z)): 0.27\n",
            "Epoch [171/200], Step [600/600], D_loss: 0.7631, G_loss: 1.6808, D(x): 0.74, D(G(z)): 0.28\n",
            "Epoch [172/200], Step [200/600], D_loss: 0.7553, G_loss: 1.4469, D(x): 0.68, D(G(z)): 0.22\n",
            "Epoch [172/200], Step [400/600], D_loss: 0.9324, G_loss: 1.5016, D(x): 0.66, D(G(z)): 0.24\n",
            "Epoch [172/200], Step [600/600], D_loss: 0.8699, G_loss: 1.4602, D(x): 0.67, D(G(z)): 0.26\n",
            "Epoch [173/200], Step [200/600], D_loss: 1.1822, G_loss: 1.4326, D(x): 0.65, D(G(z)): 0.36\n",
            "Epoch [173/200], Step [400/600], D_loss: 1.0413, G_loss: 1.5372, D(x): 0.63, D(G(z)): 0.31\n",
            "Epoch [173/200], Step [600/600], D_loss: 1.0394, G_loss: 1.2285, D(x): 0.65, D(G(z)): 0.32\n",
            "Epoch [174/200], Step [200/600], D_loss: 0.8066, G_loss: 1.2639, D(x): 0.76, D(G(z)): 0.32\n",
            "Epoch [174/200], Step [400/600], D_loss: 1.0032, G_loss: 1.5618, D(x): 0.67, D(G(z)): 0.33\n",
            "Epoch [174/200], Step [600/600], D_loss: 0.8171, G_loss: 1.9786, D(x): 0.72, D(G(z)): 0.29\n",
            "Epoch [175/200], Step [200/600], D_loss: 0.9687, G_loss: 1.5054, D(x): 0.69, D(G(z)): 0.33\n",
            "Epoch [175/200], Step [400/600], D_loss: 0.9823, G_loss: 1.6825, D(x): 0.69, D(G(z)): 0.31\n",
            "Epoch [175/200], Step [600/600], D_loss: 0.9066, G_loss: 1.9455, D(x): 0.67, D(G(z)): 0.25\n",
            "Epoch [176/200], Step [200/600], D_loss: 0.7974, G_loss: 1.9285, D(x): 0.71, D(G(z)): 0.24\n",
            "Epoch [176/200], Step [400/600], D_loss: 0.8612, G_loss: 1.6891, D(x): 0.65, D(G(z)): 0.22\n",
            "Epoch [176/200], Step [600/600], D_loss: 0.9493, G_loss: 1.7139, D(x): 0.69, D(G(z)): 0.31\n",
            "Epoch [177/200], Step [200/600], D_loss: 1.0605, G_loss: 1.2597, D(x): 0.67, D(G(z)): 0.34\n",
            "Epoch [177/200], Step [400/600], D_loss: 0.8606, G_loss: 1.5834, D(x): 0.75, D(G(z)): 0.34\n",
            "Epoch [177/200], Step [600/600], D_loss: 0.9432, G_loss: 1.6986, D(x): 0.74, D(G(z)): 0.36\n",
            "Epoch [178/200], Step [200/600], D_loss: 0.8312, G_loss: 1.4177, D(x): 0.69, D(G(z)): 0.28\n",
            "Epoch [178/200], Step [400/600], D_loss: 1.0357, G_loss: 1.5136, D(x): 0.60, D(G(z)): 0.26\n",
            "Epoch [178/200], Step [600/600], D_loss: 0.9519, G_loss: 1.7444, D(x): 0.61, D(G(z)): 0.25\n",
            "Epoch [179/200], Step [200/600], D_loss: 1.1602, G_loss: 1.1205, D(x): 0.67, D(G(z)): 0.37\n",
            "Epoch [179/200], Step [400/600], D_loss: 1.0691, G_loss: 1.3333, D(x): 0.76, D(G(z)): 0.42\n",
            "Epoch [179/200], Step [600/600], D_loss: 0.8805, G_loss: 1.9785, D(x): 0.77, D(G(z)): 0.38\n",
            "Epoch [180/200], Step [200/600], D_loss: 1.1568, G_loss: 1.4266, D(x): 0.60, D(G(z)): 0.30\n",
            "Epoch [180/200], Step [400/600], D_loss: 0.9468, G_loss: 1.6803, D(x): 0.77, D(G(z)): 0.42\n",
            "Epoch [180/200], Step [600/600], D_loss: 0.9157, G_loss: 1.2369, D(x): 0.67, D(G(z)): 0.30\n",
            "Epoch [181/200], Step [200/600], D_loss: 0.8414, G_loss: 1.6463, D(x): 0.71, D(G(z)): 0.30\n",
            "Epoch [181/200], Step [400/600], D_loss: 0.8302, G_loss: 1.5200, D(x): 0.68, D(G(z)): 0.25\n",
            "Epoch [181/200], Step [600/600], D_loss: 1.2590, G_loss: 1.2882, D(x): 0.68, D(G(z)): 0.44\n",
            "Epoch [182/200], Step [200/600], D_loss: 1.0228, G_loss: 1.5900, D(x): 0.70, D(G(z)): 0.36\n",
            "Epoch [182/200], Step [400/600], D_loss: 0.7869, G_loss: 1.6021, D(x): 0.69, D(G(z)): 0.25\n",
            "Epoch [182/200], Step [600/600], D_loss: 0.8779, G_loss: 1.7087, D(x): 0.76, D(G(z)): 0.36\n",
            "Epoch [183/200], Step [200/600], D_loss: 0.9705, G_loss: 1.2815, D(x): 0.67, D(G(z)): 0.32\n",
            "Epoch [183/200], Step [400/600], D_loss: 0.9337, G_loss: 1.1880, D(x): 0.75, D(G(z)): 0.34\n",
            "Epoch [183/200], Step [600/600], D_loss: 1.0479, G_loss: 1.4084, D(x): 0.73, D(G(z)): 0.41\n",
            "Epoch [184/200], Step [200/600], D_loss: 0.9465, G_loss: 1.4962, D(x): 0.62, D(G(z)): 0.25\n",
            "Epoch [184/200], Step [400/600], D_loss: 1.0160, G_loss: 1.4038, D(x): 0.62, D(G(z)): 0.29\n",
            "Epoch [184/200], Step [600/600], D_loss: 0.8199, G_loss: 1.3309, D(x): 0.73, D(G(z)): 0.30\n",
            "Epoch [185/200], Step [200/600], D_loss: 0.8814, G_loss: 1.5718, D(x): 0.74, D(G(z)): 0.34\n",
            "Epoch [185/200], Step [400/600], D_loss: 0.9655, G_loss: 1.7709, D(x): 0.67, D(G(z)): 0.32\n",
            "Epoch [185/200], Step [600/600], D_loss: 0.9085, G_loss: 1.6922, D(x): 0.67, D(G(z)): 0.28\n",
            "Epoch [186/200], Step [200/600], D_loss: 0.9532, G_loss: 1.6599, D(x): 0.78, D(G(z)): 0.41\n",
            "Epoch [186/200], Step [400/600], D_loss: 0.9707, G_loss: 1.5852, D(x): 0.66, D(G(z)): 0.32\n",
            "Epoch [186/200], Step [600/600], D_loss: 0.7861, G_loss: 1.6234, D(x): 0.73, D(G(z)): 0.28\n",
            "Epoch [187/200], Step [200/600], D_loss: 0.8742, G_loss: 1.6653, D(x): 0.73, D(G(z)): 0.30\n",
            "Epoch [187/200], Step [400/600], D_loss: 1.0539, G_loss: 1.5446, D(x): 0.60, D(G(z)): 0.29\n",
            "Epoch [187/200], Step [600/600], D_loss: 1.0810, G_loss: 1.5772, D(x): 0.62, D(G(z)): 0.30\n",
            "Epoch [188/200], Step [200/600], D_loss: 0.9566, G_loss: 1.2719, D(x): 0.66, D(G(z)): 0.31\n",
            "Epoch [188/200], Step [400/600], D_loss: 0.9280, G_loss: 1.5153, D(x): 0.69, D(G(z)): 0.31\n",
            "Epoch [188/200], Step [600/600], D_loss: 1.0502, G_loss: 1.3518, D(x): 0.63, D(G(z)): 0.31\n",
            "Epoch [189/200], Step [200/600], D_loss: 1.0864, G_loss: 1.4156, D(x): 0.62, D(G(z)): 0.33\n",
            "Epoch [189/200], Step [400/600], D_loss: 0.9592, G_loss: 1.5524, D(x): 0.63, D(G(z)): 0.27\n",
            "Epoch [189/200], Step [600/600], D_loss: 1.1016, G_loss: 1.5428, D(x): 0.67, D(G(z)): 0.35\n",
            "Epoch [190/200], Step [200/600], D_loss: 0.9484, G_loss: 1.4018, D(x): 0.71, D(G(z)): 0.35\n",
            "Epoch [190/200], Step [400/600], D_loss: 0.8869, G_loss: 1.2216, D(x): 0.72, D(G(z)): 0.32\n",
            "Epoch [190/200], Step [600/600], D_loss: 0.8550, G_loss: 2.1138, D(x): 0.70, D(G(z)): 0.29\n",
            "Epoch [191/200], Step [200/600], D_loss: 0.6989, G_loss: 1.7782, D(x): 0.71, D(G(z)): 0.23\n",
            "Epoch [191/200], Step [400/600], D_loss: 1.0104, G_loss: 2.0040, D(x): 0.58, D(G(z)): 0.20\n",
            "Epoch [191/200], Step [600/600], D_loss: 0.9482, G_loss: 1.1619, D(x): 0.70, D(G(z)): 0.36\n",
            "Epoch [192/200], Step [200/600], D_loss: 0.8546, G_loss: 2.0437, D(x): 0.67, D(G(z)): 0.25\n",
            "Epoch [192/200], Step [400/600], D_loss: 1.0139, G_loss: 1.6325, D(x): 0.71, D(G(z)): 0.39\n",
            "Epoch [192/200], Step [600/600], D_loss: 1.0224, G_loss: 1.4192, D(x): 0.60, D(G(z)): 0.29\n",
            "Epoch [193/200], Step [200/600], D_loss: 0.9105, G_loss: 1.5570, D(x): 0.74, D(G(z)): 0.36\n",
            "Epoch [193/200], Step [400/600], D_loss: 0.9363, G_loss: 1.2982, D(x): 0.70, D(G(z)): 0.31\n",
            "Epoch [193/200], Step [600/600], D_loss: 0.8287, G_loss: 1.4878, D(x): 0.72, D(G(z)): 0.29\n",
            "Epoch [194/200], Step [200/600], D_loss: 1.0804, G_loss: 1.4497, D(x): 0.60, D(G(z)): 0.24\n",
            "Epoch [194/200], Step [400/600], D_loss: 0.9113, G_loss: 1.7654, D(x): 0.62, D(G(z)): 0.20\n",
            "Epoch [194/200], Step [600/600], D_loss: 0.8323, G_loss: 1.6083, D(x): 0.73, D(G(z)): 0.30\n",
            "Epoch [195/200], Step [200/600], D_loss: 0.9152, G_loss: 1.2672, D(x): 0.73, D(G(z)): 0.36\n",
            "Epoch [195/200], Step [400/600], D_loss: 0.8299, G_loss: 1.5105, D(x): 0.70, D(G(z)): 0.29\n",
            "Epoch [195/200], Step [600/600], D_loss: 0.8318, G_loss: 1.3400, D(x): 0.76, D(G(z)): 0.36\n",
            "Epoch [196/200], Step [200/600], D_loss: 0.8603, G_loss: 1.3832, D(x): 0.69, D(G(z)): 0.27\n",
            "Epoch [196/200], Step [400/600], D_loss: 1.0515, G_loss: 1.3072, D(x): 0.69, D(G(z)): 0.37\n",
            "Epoch [196/200], Step [600/600], D_loss: 1.1376, G_loss: 1.7005, D(x): 0.56, D(G(z)): 0.26\n",
            "Epoch [197/200], Step [200/600], D_loss: 0.9992, G_loss: 1.8099, D(x): 0.64, D(G(z)): 0.27\n",
            "Epoch [197/200], Step [400/600], D_loss: 1.0289, G_loss: 1.3536, D(x): 0.73, D(G(z)): 0.40\n",
            "Epoch [197/200], Step [600/600], D_loss: 1.0442, G_loss: 1.3480, D(x): 0.70, D(G(z)): 0.39\n",
            "Epoch [198/200], Step [200/600], D_loss: 1.1466, G_loss: 1.3556, D(x): 0.61, D(G(z)): 0.32\n",
            "Epoch [198/200], Step [400/600], D_loss: 0.9200, G_loss: 1.3933, D(x): 0.67, D(G(z)): 0.29\n",
            "Epoch [198/200], Step [600/600], D_loss: 0.9951, G_loss: 1.6420, D(x): 0.71, D(G(z)): 0.36\n",
            "Epoch [199/200], Step [200/600], D_loss: 1.0350, G_loss: 1.4074, D(x): 0.62, D(G(z)): 0.29\n",
            "Epoch [199/200], Step [400/600], D_loss: 1.0369, G_loss: 1.3994, D(x): 0.67, D(G(z)): 0.32\n",
            "Epoch [199/200], Step [600/600], D_loss: 0.9732, G_loss: 1.5648, D(x): 0.67, D(G(z)): 0.33\n"
          ]
        }
      ]
    }
  ],
  "metadata": {
    "accelerator": "GPU",
    "colab": {
      "name": "assignment_mnistGAN_solution.ipynb",
      "provenance": []
    },
    "kernelspec": {
      "display_name": "Python 3",
      "language": "python",
      "name": "python3"
    },
    "language_info": {
      "codemirror_mode": {
        "name": "ipython",
        "version": 3
      },
      "file_extension": ".py",
      "mimetype": "text/x-python",
      "name": "python",
      "nbconvert_exporter": "python",
      "pygments_lexer": "ipython3",
      "version": "3.7.6"
    },
    "papermill": {
      "duration": 3906.147471,
      "end_time": "2020-08-17T11:00:34.587734",
      "environment_variables": {},
      "exception": null,
      "input_path": "__notebook__.ipynb",
      "output_path": "__notebook__.ipynb",
      "parameters": {},
      "start_time": "2020-08-17T09:55:28.440263",
      "version": "2.1.0"
    }
  },
  "nbformat": 4,
  "nbformat_minor": 0
}